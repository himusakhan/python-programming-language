{
  "nbformat": 4,
  "nbformat_minor": 0,
  "metadata": {
    "colab": {
      "provenance": []
    },
    "kernelspec": {
      "name": "python3",
      "display_name": "Python 3"
    },
    "language_info": {
      "name": "python"
    }
  },
  "cells": [
    {
      "cell_type": "markdown",
      "source": [
        "#**Operaters and Type Conversion**\n",
        "\n",
        "#Arthematic Operators(+,-,*,/,%,**)\n"
      ],
      "metadata": {
        "id": "H3_-nXWpQj9F"
      }
    },
    {
      "cell_type": "code",
      "source": [
        "hassan = 6\n",
        "musa = 6\n",
        "print(hassan + musa) # + operater\n",
        "print(hassan - musa) # - operater\n",
        "print(hassan * musa) # * operater\n",
        "print(hassan % musa) # % operater\n",
        "print(hassan ** musa) # ** operater\n",
        "print(hassan / musa) # / operater"
      ],
      "metadata": {
        "colab": {
          "base_uri": "https://localhost:8080/"
        },
        "id": "vzb885yeQuOy",
        "outputId": "ea8e5e1e-354b-4f9b-b5e4-b8d83bb59e0b"
      },
      "execution_count": 1,
      "outputs": [
        {
          "output_type": "stream",
          "name": "stdout",
          "text": [
            "12\n",
            "0\n",
            "36\n",
            "0\n",
            "46656\n",
            "1.0\n"
          ]
        }
      ]
    },
    {
      "cell_type": "markdown",
      "source": [
        "difference b/w Division \"/\"and Floor Division\"//\"\n",
        "\n",
        "\"\"\"Single divide returns the float type value while double // returns the integer value.\"\"\"\n"
      ],
      "metadata": {
        "id": "dzps9LlXQyZ2"
      }
    },
    {
      "cell_type": "code",
      "source": [
        "x = 10\n",
        "y = 10\n",
        "print(x/y)  # float type output\n"
      ],
      "metadata": {
        "colab": {
          "base_uri": "https://localhost:8080/"
        },
        "id": "EnO5rYdFQ7L0",
        "outputId": "0fb57b44-4099-4803-88b5-8ddb37cb53f7"
      },
      "execution_count": 2,
      "outputs": [
        {
          "output_type": "stream",
          "name": "stdout",
          "text": [
            "1.0\n"
          ]
        }
      ]
    },
    {
      "cell_type": "markdown",
      "source": [
        "#Floor Division Operater\n"
      ],
      "metadata": {
        "id": "IUQswgZFQ-EG"
      }
    },
    {
      "cell_type": "code",
      "source": [
        "x = 20\n",
        "y = 20\n",
        "print(x//y)  # Floor Division (integer type output)\n"
      ],
      "metadata": {
        "colab": {
          "base_uri": "https://localhost:8080/"
        },
        "id": "rx7Cwp8XRBT6",
        "outputId": "6f2e6674-79ba-4c43-8c23-32d045389020"
      },
      "execution_count": 3,
      "outputs": [
        {
          "output_type": "stream",
          "name": "stdout",
          "text": [
            "1\n"
          ]
        }
      ]
    },
    {
      "cell_type": "markdown",
      "source": [
        "#Relation / Comparison Operater (==,!=,>=,<=,)\n",
        "\n",
        "#It always returns the boolean type value.\n"
      ],
      "metadata": {
        "id": "FToRSSvuRELw"
      }
    },
    {
      "cell_type": "code",
      "source": [
        "s = 40\n",
        "r = 20\n",
        "t = (s == r)\n",
        "t1 = (s!= r)\n",
        "t2 = (s >= r)\n",
        "t3 = (s <= r)\n",
        "t4 = (s < r)\n",
        "t5 = (s > r)\n",
        "print(t)\n",
        "print(t1)\n",
        "print(t2)\n",
        "print(t3)\n",
        "print(t4)\n",
        "print(t5)\n"
      ],
      "metadata": {
        "colab": {
          "base_uri": "https://localhost:8080/"
        },
        "id": "k0zEF_wxRKYY",
        "outputId": "4fa2e665-8a1b-4291-ce80-48bd4b5696b2"
      },
      "execution_count": 4,
      "outputs": [
        {
          "output_type": "stream",
          "name": "stdout",
          "text": [
            "False\n",
            "True\n",
            "True\n",
            "False\n",
            "False\n",
            "True\n"
          ]
        }
      ]
    },
    {
      "cell_type": "markdown",
      "source": [
        "#Assignme ent Operators (=,+=,*=,-=,/=,%=,**=)\n"
      ],
      "metadata": {
        "id": "SSllTgg_RNPE"
      }
    },
    {
      "cell_type": "code",
      "source": [
        "a = 30\n",
        "a = 20\n",
        "print(a)\n"
      ],
      "metadata": {
        "colab": {
          "base_uri": "https://localhost:8080/"
        },
        "id": "GVzPh7dGRQfi",
        "outputId": "2d244c84-101f-430d-9b29-f961d41d9c03"
      },
      "execution_count": 5,
      "outputs": [
        {
          "output_type": "stream",
          "name": "stdout",
          "text": [
            "20\n"
          ]
        }
      ]
    },
    {
      "cell_type": "code",
      "source": [
        "a = 30\n",
        "a += 20\n",
        "print(a)\n"
      ],
      "metadata": {
        "colab": {
          "base_uri": "https://localhost:8080/"
        },
        "id": "guaXNrpjRSEC",
        "outputId": "229e69de-6d4d-4c5e-fbff-ff84f8800c36"
      },
      "execution_count": 11,
      "outputs": [
        {
          "output_type": "stream",
          "name": "stdout",
          "text": [
            "50\n"
          ]
        }
      ]
    },
    {
      "cell_type": "code",
      "source": [
        "a = 30\n",
        "a -= 20\n",
        "print(a)\n"
      ],
      "metadata": {
        "colab": {
          "base_uri": "https://localhost:8080/"
        },
        "id": "wPdMkho2RTo9",
        "outputId": "792169f3-a26e-43a1-a6c5-96d2bcaca705"
      },
      "execution_count": 6,
      "outputs": [
        {
          "output_type": "stream",
          "name": "stdout",
          "text": [
            "10\n"
          ]
        }
      ]
    },
    {
      "cell_type": "code",
      "source": [
        "a = 30\n",
        "a *= 20\n",
        "print(a)"
      ],
      "metadata": {
        "colab": {
          "base_uri": "https://localhost:8080/"
        },
        "id": "teaYEdHWRWRI",
        "outputId": "c6f76f6c-8781-4003-ad62-ddddcf017f58"
      },
      "execution_count": 7,
      "outputs": [
        {
          "output_type": "stream",
          "name": "stdout",
          "text": [
            "600\n"
          ]
        }
      ]
    },
    {
      "cell_type": "code",
      "source": [
        "a = 30\n",
        "a %= 20\n",
        "print(a)"
      ],
      "metadata": {
        "colab": {
          "base_uri": "https://localhost:8080/"
        },
        "id": "WuIOfuRaRYA-",
        "outputId": "7bfa38b7-d494-455a-a3c7-b353b6560588"
      },
      "execution_count": 8,
      "outputs": [
        {
          "output_type": "stream",
          "name": "stdout",
          "text": [
            "10\n"
          ]
        }
      ]
    },
    {
      "cell_type": "code",
      "source": [
        "a = 30\n",
        "a **= 20\n",
        "print(a)"
      ],
      "metadata": {
        "colab": {
          "base_uri": "https://localhost:8080/"
        },
        "id": "Sll-c9hXRZ8v",
        "outputId": "289634c8-b8b9-49f8-c869-ccf22f954383"
      },
      "execution_count": 9,
      "outputs": [
        {
          "output_type": "stream",
          "name": "stdout",
          "text": [
            "348678440100000000000000000000\n"
          ]
        }
      ]
    },
    {
      "cell_type": "code",
      "source": [
        "a = 30\n",
        "a /= 20\n",
        "print(a)"
      ],
      "metadata": {
        "colab": {
          "base_uri": "https://localhost:8080/"
        },
        "id": "Cw8-9KQ4RbYc",
        "outputId": "99026767-ffb1-4f4c-f8a4-f1d98b119083"
      },
      "execution_count": 10,
      "outputs": [
        {
          "output_type": "stream",
          "name": "stdout",
          "text": [
            "1.5\n"
          ]
        }
      ]
    },
    {
      "cell_type": "markdown",
      "source": [
        "#Membership operators;\n"
      ],
      "metadata": {
        "id": "AHHE0DXsRrGy"
      }
    },
    {
      "cell_type": "code",
      "source": [
        "xy = [\"shakir\",222,\"ali\",\"musa\",3333,\"shakoor\"]\n",
        "sam = ( 222 in xy)\n",
        "print(sam)"
      ],
      "metadata": {
        "colab": {
          "base_uri": "https://localhost:8080/"
        },
        "id": "Yb2ac5qnRu1u",
        "outputId": "73b22775-b693-4a67-85c5-1fe74b7f97a3"
      },
      "execution_count": 12,
      "outputs": [
        {
          "output_type": "stream",
          "name": "stdout",
          "text": [
            "True\n"
          ]
        }
      ]
    },
    {
      "cell_type": "code",
      "source": [
        "xy = [\"shakir\",2222,\"ali\",\"musa\",3333,\"shakoor\"]\n",
        "sam = (22 not in xy)\n",
        "print(sam)"
      ],
      "metadata": {
        "colab": {
          "base_uri": "https://localhost:8080/"
        },
        "id": "X1bHBThiRxVB",
        "outputId": "c7760fa3-fbbf-4bde-8cd2-320cfa119638"
      },
      "execution_count": 13,
      "outputs": [
        {
          "output_type": "stream",
          "name": "stdout",
          "text": [
            "True\n"
          ]
        }
      ]
    },
    {
      "cell_type": "markdown",
      "source": [
        "Logical Operators (not,and,or)\n",
        "not operator :\n",
        "\n",
        "\"not\" operator returns the opposite value of the given value.\n",
        "\n",
        "It works based on single value"
      ],
      "metadata": {
        "id": "B1Lk3-CwR2BG"
      }
    },
    {
      "cell_type": "code",
      "source": [
        "k = not True\n",
        "l = not False\n",
        "print(k)\n",
        "print(l)"
      ],
      "metadata": {
        "colab": {
          "base_uri": "https://localhost:8080/"
        },
        "id": "yPGP-vn9R-Fa",
        "outputId": "79c3c606-e1cc-45a1-f232-864b83a91267"
      },
      "execution_count": 14,
      "outputs": [
        {
          "output_type": "stream",
          "name": "stdout",
          "text": [
            "False\n",
            "True\n"
          ]
        }
      ]
    },
    {
      "cell_type": "markdown",
      "source": [
        "# Similarly\n"
      ],
      "metadata": {
        "id": "V_yTVghcSAc-"
      }
    },
    {
      "cell_type": "code",
      "source": [
        "ab = 88\n",
        "ac = 33\n",
        "bc = (not (ab>ac))\n",
        "print(bc)\n",
        "print(type(bc))\n"
      ],
      "metadata": {
        "colab": {
          "base_uri": "https://localhost:8080/"
        },
        "id": "9Eit2s1GSD3g",
        "outputId": "4fc18a2f-314f-45b2-dc04-abf2d4a650ef"
      },
      "execution_count": 15,
      "outputs": [
        {
          "output_type": "stream",
          "name": "stdout",
          "text": [
            "False\n",
            "<class 'bool'>\n"
          ]
        }
      ]
    },
    {
      "cell_type": "markdown",
      "source": [
        "And operator :\n",
        "\n",
        "It works based on two values.\n",
        "\n",
        "Type Conversion :\n",
        "\n",
        "When a one data type is coverted into another data type , this is known as Type Conversion.\n",
        "\n",
        "Two types of conversion:\n",
        "\n",
        "#1 : Type Conversion;"
      ],
      "metadata": {
        "id": "0LTOr5BLSSIZ"
      }
    },
    {
      "cell_type": "code",
      "source": [
        "g = 9\n",
        "h = 6.3\n",
        "sum = (g + h)\n",
        "print(sum)     # here python automatically convert the integer value into float value.\n",
        "print(type(sum))"
      ],
      "metadata": {
        "colab": {
          "base_uri": "https://localhost:8080/"
        },
        "id": "TotW8FzjSmWK",
        "outputId": "050a2ffa-2de7-4826-b4e5-af62c853da47"
      },
      "execution_count": 16,
      "outputs": [
        {
          "output_type": "stream",
          "name": "stdout",
          "text": [
            "15.3\n",
            "<class 'float'>\n"
          ]
        }
      ]
    },
    {
      "cell_type": "markdown",
      "source": [
        " Note: it is not possible for python to convert the string into into float, so for this we use type Casting.\n",
        "\n",
        "#2 : Type Casting"
      ],
      "metadata": {
        "id": "dTGj0b6vSpMm"
      }
    },
    {
      "cell_type": "code",
      "source": [
        "z = int(\"3\")\n",
        "p = 6.3\n",
        "sum = (z + p)\n",
        "print(sum)"
      ],
      "metadata": {
        "colab": {
          "base_uri": "https://localhost:8080/"
        },
        "id": "S6IgwzzFSxo0",
        "outputId": "299d2cbd-ac55-42f1-f4b0-0fd0dae39d2b"
      },
      "execution_count": 17,
      "outputs": [
        {
          "output_type": "stream",
          "name": "stdout",
          "text": [
            "9.3\n"
          ]
        }
      ]
    },
    {
      "cell_type": "markdown",
      "source": [
        "An examples of type casting."
      ],
      "metadata": {
        "id": "lXBt6LdJSzmO"
      }
    },
    {
      "cell_type": "code",
      "source": [
        "ali = 99\n",
        "ali = str(ali)\n",
        "print(type(ali))"
      ],
      "metadata": {
        "colab": {
          "base_uri": "https://localhost:8080/"
        },
        "id": "wSoOSqlPS5py",
        "outputId": "fcebc668-d527-49ff-b074-f18ecdc1843d"
      },
      "execution_count": 18,
      "outputs": [
        {
          "output_type": "stream",
          "name": "stdout",
          "text": [
            "<class 'str'>\n"
          ]
        }
      ]
    },
    {
      "cell_type": "code",
      "source": [],
      "metadata": {
        "id": "ItFYQE2YTYRY"
      },
      "execution_count": null,
      "outputs": []
    }
  ]
}