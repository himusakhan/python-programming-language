{
  "nbformat": 4,
  "nbformat_minor": 0,
  "metadata": {
    "colab": {
      "provenance": []
    },
    "kernelspec": {
      "name": "python3",
      "display_name": "Python 3"
    },
    "language_info": {
      "name": "python"
    }
  },
  "cells": [
    {
      "cell_type": "markdown",
      "source": [
        "# **Dictionary (Data Structure)**\n",
        "\n",
        "Dictionay is built-in-data type which stores data in key:values pairs. It is mutable,orderless like \"list\" but don't allow duplicate keys.\n"
      ],
      "metadata": {
        "id": "vJg7U3xMp8QH"
      }
    },
    {
      "cell_type": "code",
      "source": [
        "dic={\n",
        "    \"ali\": 20,\n",
        "    \"mustafa\": 30,\n",
        "    \"majid\": 11,\n",
        "    \"hassan\":11.2,\n",
        "    \"husain\": \"ali raza\",\n",
        "    \"friends\":[\"jan\",\"khan\",\"zan\",\"sherkhan\"],\n",
        "    \"goodfriends\": (\"sk\",\"al\",\"dd\",\"ee\")\n",
        "}\n",
        "print(dic)\n",
        "print(type(dic))\n",
        "print(len(dic))   # length of dictionary.\n",
        "print(dic[\"friends\"]) # in dictionary we only access to keys like index in strings.\n"
      ],
      "metadata": {
        "colab": {
          "base_uri": "https://localhost:8080/"
        },
        "id": "dqPGJpLgqW8d",
        "outputId": "04ea51c1-6b78-49f0-8184-fa51805dc57e"
      },
      "execution_count": 48,
      "outputs": [
        {
          "output_type": "stream",
          "name": "stdout",
          "text": [
            "{'ali': 20, 'mustafa': 30, 'majid': 11, 'hassan': 11.2, 'husain': 'ali raza', 'friends': ['jan', 'khan', 'zan', 'sherkhan'], 'goodfriends': ('sk', 'al', 'dd', 'ee')}\n",
            "<class 'dict'>\n",
            "7\n",
            "['jan', 'khan', 'zan', 'sherkhan']\n"
          ]
        }
      ]
    },
    {
      "cell_type": "code",
      "source": [
        "dic[\"goodfriends\"]=\"best friends\" # same like assigning of an element by replacing specific element.\n",
        "\n",
        "dic[\"student of class\"]=\"hamza hassan\"  # same like append method (adding of an element)\n",
        "print(dic)"
      ],
      "metadata": {
        "colab": {
          "base_uri": "https://localhost:8080/"
        },
        "id": "zX0i0S0lqZv7",
        "outputId": "aaa30cea-13f6-427c-f249-fcb1cb20d983"
      },
      "execution_count": 50,
      "outputs": [
        {
          "output_type": "stream",
          "name": "stdout",
          "text": [
            "{'ali': 20, 'mustafa': 30, 'majid': 11, 'hassan': 11.2, 'husain': 'ali raza', 'friends': ['jan', 'khan', 'zan', 'sherkhan'], 'goodfriends': 'best friends', 'student of class': 'hamza hassan'}\n"
          ]
        }
      ]
    },
    {
      "cell_type": "markdown",
      "source": [
        "#How to add new keys in null dictionary.\n"
      ],
      "metadata": {
        "id": "fKop_x-CquSX"
      }
    },
    {
      "cell_type": "code",
      "source": [
        "dict1={}\n",
        "dict1[\"class fellow\"] = \"Ali\",\"Ahmad\",\"Mustafa\",\n",
        "dict1[\"relatives name\"] = \"Zakir\",\"Amir\",\n",
        "print(dict1)\n"
      ],
      "metadata": {
        "colab": {
          "base_uri": "https://localhost:8080/"
        },
        "id": "v3VYpwtWqwXx",
        "outputId": "1aaa4c87-d743-4843-b246-c6fde9767ec9"
      },
      "execution_count": 52,
      "outputs": [
        {
          "output_type": "stream",
          "name": "stdout",
          "text": [
            "{'class fellow': ('Ali', 'Ahmad', 'Mustafa'), 'relatives name': ('Zakir', 'Amir')}\n"
          ]
        }
      ]
    },
    {
      "cell_type": "markdown",
      "source": [
        "#Nesting Concept:\n",
        "\n",
        "Making a data type inside the data type.\n"
      ],
      "metadata": {
        "id": "hSlbXWRLqznP"
      }
    },
    {
      "cell_type": "code",
      "source": [
        "a = {\n",
        "    \"name\":\"Musa khan\",\n",
        "    \"subjects\":{                            # nesting of one variable\n",
        "        \"Maths\": 22,\n",
        "        \"che\": 33,\n",
        "        \"phy\": 44,\n",
        "        \"Hobbies\":{                        # nesting of second variable\n",
        "            \"football\": \"3 hours daily\",\n",
        "            \"cricket\":\" 4 hours daily\",\n",
        "        }\n",
        "    }\n",
        "}\n",
        "print(a)\n",
        "print(len(a))  # len of dictionary which is 2, it means it returns only keys len\n"
      ],
      "metadata": {
        "colab": {
          "base_uri": "https://localhost:8080/"
        },
        "id": "qgLB-WP0q-hr",
        "outputId": "55f4f04c-47d7-4712-d8cf-6f5e2e3d20e1"
      },
      "execution_count": 55,
      "outputs": [
        {
          "output_type": "stream",
          "name": "stdout",
          "text": [
            "{'name': 'Musa khan', 'subjects': {'Maths': 22, 'che': 33, 'phy': 44, 'Hobbies': {'football': '3 hours daily', 'cricket': ' 4 hours daily'}}}\n",
            "2\n"
          ]
        }
      ]
    },
    {
      "cell_type": "markdown",
      "source": [
        "#Dictionary Methods ;\n",
        "\n",
        ".keys() Method\n",
        "\n",
        "It returns all the keys values.\n",
        "\n",
        "\n"
      ],
      "metadata": {
        "id": "Ggk8yUcbrnA9"
      }
    },
    {
      "cell_type": "code",
      "source": [
        "a = {\n",
        "    \"name\":\"Musa khan\",\n",
        "    \"subjects\":{                            # nesting of one variable\n",
        "        \"Maths\": 22,\n",
        "        \"che\": 33,\n",
        "        \"phy\": 44,\n",
        "        \"Hobbies\":{                        # nesting of second variable\n",
        "            \"football\": \"3 hours daily\",\n",
        "            \"cricket\":\" 4 hours daily\",\n",
        "        }\n",
        "    }\n",
        "}\n",
        "print(a.keys())"
      ],
      "metadata": {
        "colab": {
          "base_uri": "https://localhost:8080/"
        },
        "id": "cdgS9D-jrusV",
        "outputId": "a137220d-cfa3-4907-ca5d-511c89b3a817"
      },
      "execution_count": 57,
      "outputs": [
        {
          "output_type": "stream",
          "name": "stdout",
          "text": [
            "dict_keys(['name', 'subjects'])\n"
          ]
        }
      ]
    },
    {
      "cell_type": "markdown",
      "source": [
        "#.values() Method\n",
        "It returns all values\n"
      ],
      "metadata": {
        "id": "mjqV4ppar-u0"
      }
    },
    {
      "cell_type": "code",
      "source": [
        "a = {\n",
        "    \"name\":\"Musa khan\",\n",
        "    \"subjects\":{                            # nesting of one variable\n",
        "        \"Maths\": 22,\n",
        "        \"che\": 33,\n",
        "        \"phy\": 44,\n",
        "        \"Hobbies\":{                        # nesting of second variable\n",
        "            \"football\": \"3 hours daily\",\n",
        "            \"cricket\":\" 4 hours daily\"\n",
        "        }\n",
        "    }\n",
        "}\n",
        "print(a.values())\n",
        "\n",
        "\n"
      ],
      "metadata": {
        "colab": {
          "base_uri": "https://localhost:8080/"
        },
        "id": "gqVFGVazwmA4",
        "outputId": "43f37956-8096-4aaf-9bbe-b81b1c492ab1"
      },
      "execution_count": 86,
      "outputs": [
        {
          "output_type": "stream",
          "name": "stdout",
          "text": [
            "dict_values(['Musa khan', {'Maths': 22, 'che': 33, 'phy': 44, 'Hobbies': {'football': '3 hours daily', 'cricket': ' 4 hours daily'}}])\n"
          ]
        }
      ]
    },
    {
      "cell_type": "markdown",
      "source": [
        "#.items() Method\n",
        "Returns all keys,values pairs as tuples.\n"
      ],
      "metadata": {
        "id": "k1hUmuNQvuur"
      }
    },
    {
      "cell_type": "code",
      "source": [
        "a = {\n",
        "    \"name\":\"Muhammad Hamza\",\n",
        "    \"subjects\":{                            # nesting of one variable\n",
        "        \"bio\": 22,\n",
        "        \"che\": 33,\n",
        "        \"phy\": 44,\n",
        "        \"Hobbies\":{                        # nesting of second variable\n",
        "            \"football\": \"3 hours daily\",\n",
        "            \"cricket\":\" 4 hours daily\",\n",
        "        }\n",
        "    }\n",
        "}\n",
        "\n",
        "print(a.items())\n"
      ],
      "metadata": {
        "colab": {
          "base_uri": "https://localhost:8080/"
        },
        "id": "nY-Bl8fDvy73",
        "outputId": "32c79888-ec0d-41b5-9177-74f05f8fc355"
      },
      "execution_count": 74,
      "outputs": [
        {
          "output_type": "stream",
          "name": "stdout",
          "text": [
            "dict_items([('name', 'Muhammad Hamza'), ('subjects', {'bio': 22, 'che': 33, 'phy': 44, 'Hobbies': {'football': '3 hours daily', 'cricket': ' 4 hours daily'}})])\n"
          ]
        }
      ]
    },
    {
      "cell_type": "markdown",
      "source": [
        "#.get() Method"
      ],
      "metadata": {
        "id": "LnuWIOFuwLm-"
      }
    },
    {
      "cell_type": "code",
      "source": [
        "a = {\n",
        "    \"name\":\"Muhammad Hamza\",\n",
        "    \"subjects\":{                            # nesting of one variable\n",
        "        \"bio\": 22,\n",
        "        \"che\": 33,\n",
        "        \"phy\": 44,\n",
        "        \"Hobbies\":{                        # nesting of second variable\n",
        "            \"football\": \"3 hours daily\",\n",
        "            \"cricket\":\" 4 hours daily\",\n",
        "        }\n",
        "    }\n",
        "}\n",
        "print(a[\"name\"]) # it returns the error when we have no element.\n",
        "print(a.get(\"name\"))\n",
        "print(a.get(\"subjects\")) # Here we follow method rule because due to unavailability of element it returns the \"None\",while above returns error.\n"
      ],
      "metadata": {
        "colab": {
          "base_uri": "https://localhost:8080/"
        },
        "id": "WEyuOoGEwRFn",
        "outputId": "12cb1f50-8d02-445d-9eaa-1a2bd91171a0"
      },
      "execution_count": 75,
      "outputs": [
        {
          "output_type": "stream",
          "name": "stdout",
          "text": [
            "Muhammad Hamza\n",
            "Muhammad Hamza\n",
            "{'bio': 22, 'che': 33, 'phy': 44, 'Hobbies': {'football': '3 hours daily', 'cricket': ' 4 hours daily'}}\n"
          ]
        }
      ]
    },
    {
      "cell_type": "markdown",
      "source": [
        "#.update() Method\n",
        "Insert the specified items to the dictionry\n"
      ],
      "metadata": {
        "id": "m_29PwKPwTio"
      }
    },
    {
      "cell_type": "code",
      "source": [
        "a = {\n",
        "    \"name\":\"Muhammad Hamza\",\n",
        "    \"subjects\":{                            # nesting of one variable\n",
        "        \"bio\": 22,\n",
        "        \"che\": 33,\n",
        "        \"phy\": 44,\n",
        "        \"Hobbies\":{                        # nesting of second variable\n",
        "            \"football\": \"3 hours daily\",\n",
        "            \"cricket\":\" 4 hours daily\",\n",
        "        }\n",
        "    }\n",
        "}\n",
        "\n",
        "a.update({\"city\":\"peshawar\"})\n",
        "print(a)"
      ],
      "metadata": {
        "colab": {
          "base_uri": "https://localhost:8080/"
        },
        "id": "P-_bznDLwZCn",
        "outputId": "176f6459-72d9-4b74-f6b4-bad571ade01c"
      },
      "execution_count": 76,
      "outputs": [
        {
          "output_type": "stream",
          "name": "stdout",
          "text": [
            "{'name': 'Muhammad Hamza', 'subjects': {'bio': 22, 'che': 33, 'phy': 44, 'Hobbies': {'football': '3 hours daily', 'cricket': ' 4 hours daily'}}, 'city': 'peshawar'}\n"
          ]
        }
      ]
    },
    {
      "cell_type": "code",
      "source": [
        "b={\"ali\" : \"marks2222\",\n",
        "   \"shah\":\"marks1111\"}\n",
        "a.update(b)\n",
        "print(a)\n"
      ],
      "metadata": {
        "colab": {
          "base_uri": "https://localhost:8080/"
        },
        "id": "tflbul2xwbhJ",
        "outputId": "061266e3-1b18-4f25-9a6b-95f72d6533f0"
      },
      "execution_count": 77,
      "outputs": [
        {
          "output_type": "stream",
          "name": "stdout",
          "text": [
            "{'name': 'Muhammad Hamza', 'subjects': {'bio': 22, 'che': 33, 'phy': 44, 'Hobbies': {'football': '3 hours daily', 'cricket': ' 4 hours daily'}}, 'city': 'peshawar', 'ali': 'marks2222', 'shah': 'marks1111'}\n"
          ]
        }
      ]
    }
  ]
}