{
  "nbformat": 4,
  "nbformat_minor": 0,
  "metadata": {
    "colab": {
      "provenance": []
    },
    "kernelspec": {
      "name": "python3",
      "display_name": "Python 3"
    },
    "language_info": {
      "name": "python"
    }
  },
  "cells": [
    {
      "cell_type": "markdown",
      "source": [
        "**Chapter  2**"
      ],
      "metadata": {
        "id": "e_0OU185Q--t"
      }
    },
    {
      "cell_type": "markdown",
      "source": [
        "#Strings and Conditional Statements\n",
        "\n",
        "#Strings:\n",
        "String is data type that stores a sequence of charactors.\n",
        "\n",
        "# Basic Operations\n",
        "\n",
        "#. Concetenation:\n",
        "   \n",
        "# \"hello\" + \"world\"  =  \"helloworld\"\n",
        "\n",
        "#. Length of str:\n",
        "\n",
        "# len(str)"
      ],
      "metadata": {
        "id": "t7sXh7GcRKfV"
      }
    },
    {
      "cell_type": "code",
      "source": [
        "str1 = \"This is a string.\"\n",
        "str2 = 'hello musa'\n",
        "str3 = \"\"\"this is a string\"\"\"\n",
        "\n",
        "'hello musa''how are you'\n"
      ],
      "metadata": {
        "colab": {
          "base_uri": "https://localhost:8080/",
          "height": 36
        },
        "id": "DVYzl7QZR3Dj",
        "outputId": "22a5ba15-e6a1-4b82-f319-f0674253fcb6"
      },
      "execution_count": 1,
      "outputs": [
        {
          "output_type": "execute_result",
          "data": {
            "text/plain": [
              "'hello musahow are you'"
            ],
            "application/vnd.google.colaboratory.intrinsic+json": {
              "type": "string"
            }
          },
          "metadata": {},
          "execution_count": 1
        }
      ]
    },
    {
      "cell_type": "code",
      "source": [
        "str1 = \"musa\"\n",
        "str2 = \"globle\"\n",
        "print(str1+str2)\n"
      ],
      "metadata": {
        "colab": {
          "base_uri": "https://localhost:8080/"
        },
        "id": "xF7vo5KaR-ZJ",
        "outputId": "7c79cc1f-ad03-4249-86ea-124a087373fe"
      },
      "execution_count": 2,
      "outputs": [
        {
          "output_type": "stream",
          "name": "stdout",
          "text": [
            "musagloble\n"
          ]
        }
      ]
    },
    {
      "cell_type": "code",
      "source": [
        "str1 = \"musa\"\n",
        "str2 = \"globle\"\n",
        "final_str = str1+str2\n",
        "print(final_str)"
      ],
      "metadata": {
        "colab": {
          "base_uri": "https://localhost:8080/"
        },
        "id": "mJzFxMUISBEm",
        "outputId": "2abd966b-3635-49b9-aa67-cdedae884690"
      },
      "execution_count": 3,
      "outputs": [
        {
          "output_type": "stream",
          "name": "stdout",
          "text": [
            "musagloble\n"
          ]
        }
      ]
    },
    {
      "cell_type": "code",
      "source": [
        "str1 = \"musa\"\n",
        "len1 = len(str1)\n",
        "print(len1)"
      ],
      "metadata": {
        "colab": {
          "base_uri": "https://localhost:8080/"
        },
        "id": "Nfla6fQPSDMi",
        "outputId": "b5002a79-f4c3-4e7a-9d70-557e5e1f688e"
      },
      "execution_count": 4,
      "outputs": [
        {
          "output_type": "stream",
          "name": "stdout",
          "text": [
            "4\n"
          ]
        }
      ]
    },
    {
      "cell_type": "code",
      "source": [
        "str2 = \"globle\"\n",
        "len2 = len(str2)\n",
        "print(len2)"
      ],
      "metadata": {
        "colab": {
          "base_uri": "https://localhost:8080/"
        },
        "id": "B2PYA2ibSFia",
        "outputId": "48d208ef-bdf2-4f32-b66b-c708934d38a8"
      },
      "execution_count": 5,
      "outputs": [
        {
          "output_type": "stream",
          "name": "stdout",
          "text": [
            "6\n"
          ]
        }
      ]
    },
    {
      "cell_type": "code",
      "source": [
        "final_str = str1+str2\n",
        "print(final_str)"
      ],
      "metadata": {
        "colab": {
          "base_uri": "https://localhost:8080/"
        },
        "id": "gKgrz_MfSIXv",
        "outputId": "90e656ce-491c-4146-defc-684c5dc4cd02"
      },
      "execution_count": 6,
      "outputs": [
        {
          "output_type": "stream",
          "name": "stdout",
          "text": [
            "musagloble\n"
          ]
        }
      ]
    },
    {
      "cell_type": "code",
      "source": [
        "final_str = str1 + \" \" + str2\n",
        "print(final_str)\n",
        "print(len(final_str))"
      ],
      "metadata": {
        "colab": {
          "base_uri": "https://localhost:8080/"
        },
        "id": "lca80O-iSKfq",
        "outputId": "922aa85c-4045-4ba2-f0a7-8cbfc1db34e2"
      },
      "execution_count": 7,
      "outputs": [
        {
          "output_type": "stream",
          "name": "stdout",
          "text": [
            "musa globle\n",
            "11\n"
          ]
        }
      ]
    },
    {
      "cell_type": "markdown",
      "source": [
        "#Indexing\n",
        "#Musa_khan\n",
        "#123456789\n",
        "\n",
        "#str = \"Musa_khan\"\n",
        "#str[0] is 'M',str[2] is 's'...\n",
        "#str[0] = 'u' #not allowed\n"
      ],
      "metadata": {
        "id": "-2rKi4b_SPTQ"
      }
    },
    {
      "cell_type": "code",
      "source": [
        "str = \"Musa khan\"\n",
        "ch = str[0]\n",
        "print(ch)"
      ],
      "metadata": {
        "colab": {
          "base_uri": "https://localhost:8080/"
        },
        "id": "Ws-Dp0jQSYDS",
        "outputId": "3e52ea2f-f041-473e-aa28-b8a25fa68252"
      },
      "execution_count": 8,
      "outputs": [
        {
          "output_type": "stream",
          "name": "stdout",
          "text": [
            "M\n"
          ]
        }
      ]
    },
    {
      "cell_type": "code",
      "source": [
        "str = \"Musa khan\"\n",
        "ch = str[1]\n",
        "print(ch)"
      ],
      "metadata": {
        "colab": {
          "base_uri": "https://localhost:8080/"
        },
        "id": "pB_-KoqsSbN0",
        "outputId": "bca861dc-1885-4e75-cfa3-6437e983cf8b"
      },
      "execution_count": 9,
      "outputs": [
        {
          "output_type": "stream",
          "name": "stdout",
          "text": [
            "u\n"
          ]
        }
      ]
    },
    {
      "cell_type": "code",
      "source": [
        "str = \"Musa khan\"\n",
        "ch = str[2]\n",
        "print(ch)"
      ],
      "metadata": {
        "colab": {
          "base_uri": "https://localhost:8080/"
        },
        "id": "1OULWFpqSdCw",
        "outputId": "62041f71-c4fa-46c2-9704-736c13984858"
      },
      "execution_count": 10,
      "outputs": [
        {
          "output_type": "stream",
          "name": "stdout",
          "text": [
            "s\n"
          ]
        }
      ]
    },
    {
      "cell_type": "code",
      "source": [
        "str = \"Musa khan\"\n",
        "ch = str[3]\n",
        "print(ch)"
      ],
      "metadata": {
        "colab": {
          "base_uri": "https://localhost:8080/"
        },
        "id": "N12qlBvLSfHk",
        "outputId": "e1d549eb-ca53-4e5b-ecff-dd0e82b31e62"
      },
      "execution_count": 11,
      "outputs": [
        {
          "output_type": "stream",
          "name": "stdout",
          "text": [
            "a\n"
          ]
        }
      ]
    },
    {
      "cell_type": "code",
      "source": [
        "str = \"Musa khan\"\n",
        "print(str[4])"
      ],
      "metadata": {
        "colab": {
          "base_uri": "https://localhost:8080/"
        },
        "id": "oOmyxzgqSic-",
        "outputId": "e033ae64-f131-42ba-a9ba-7de396908454"
      },
      "execution_count": 12,
      "outputs": [
        {
          "output_type": "stream",
          "name": "stdout",
          "text": [
            " \n"
          ]
        }
      ]
    },
    {
      "cell_type": "markdown",
      "source": [
        "#Slicing\n",
        "Accessing parts of a string.\n",
        "\n",
        "#str[ starting_idx : ending_idx ]#ending idx is not included\n",
        "\n",
        "#str = \"Musa khan\"\n",
        "\n",
        "#str[1 : 4] is \"usa\"\n",
        "\n",
        "#str[ : 4] is same as str [0:4]\n",
        "\n",
        "#str[1 : ] is same as str[1 : len(str)]"
      ],
      "metadata": {
        "id": "MFORzyHiSk5J"
      }
    },
    {
      "cell_type": "code",
      "source": [
        "str = \"Musa khan\"\n",
        "print(str[1:4])"
      ],
      "metadata": {
        "colab": {
          "base_uri": "https://localhost:8080/"
        },
        "id": "xs1Ck7IDSzNw",
        "outputId": "23929a71-7e18-4603-a70a-ba7d9b77476b"
      },
      "execution_count": 13,
      "outputs": [
        {
          "output_type": "stream",
          "name": "stdout",
          "text": [
            "usa\n"
          ]
        }
      ]
    },
    {
      "cell_type": "code",
      "source": [
        "str = \"Musa khan\"\n",
        "print(str[2:4])"
      ],
      "metadata": {
        "colab": {
          "base_uri": "https://localhost:8080/"
        },
        "id": "t-mz_ka6S1S5",
        "outputId": "36f43491-4dde-4100-e03b-717cd9ff435d"
      },
      "execution_count": 20,
      "outputs": [
        {
          "output_type": "stream",
          "name": "stdout",
          "text": [
            "sa\n"
          ]
        }
      ]
    },
    {
      "cell_type": "code",
      "source": [
        "str = \"Musa khan\"\n",
        "print(str[0:4])"
      ],
      "metadata": {
        "colab": {
          "base_uri": "https://localhost:8080/"
        },
        "id": "kCYNmGW2S2xy",
        "outputId": "91a5007c-6ed1-4242-f4c3-1932c7b0a4a1"
      },
      "execution_count": 19,
      "outputs": [
        {
          "output_type": "stream",
          "name": "stdout",
          "text": [
            "Musa\n"
          ]
        }
      ]
    },
    {
      "cell_type": "code",
      "source": [
        "str = \"Musa khan\"\n",
        "print(str[5:9])"
      ],
      "metadata": {
        "colab": {
          "base_uri": "https://localhost:8080/"
        },
        "id": "53xM3cB7S4D4",
        "outputId": "f0585217-6b04-4035-8b3f-3e639da4c892"
      },
      "execution_count": 18,
      "outputs": [
        {
          "output_type": "stream",
          "name": "stdout",
          "text": [
            "khan\n"
          ]
        }
      ]
    },
    {
      "cell_type": "code",
      "source": [
        "str = \"Musa khan\"\n",
        "print(str[5:len(str)])\n"
      ],
      "metadata": {
        "colab": {
          "base_uri": "https://localhost:8080/"
        },
        "id": "OY9hi20yS5ge",
        "outputId": "3abe8917-1a56-442b-c91d-19a4c08eefb2"
      },
      "execution_count": 17,
      "outputs": [
        {
          "output_type": "stream",
          "name": "stdout",
          "text": [
            "khan\n"
          ]
        }
      ]
    },
    {
      "cell_type": "code",
      "source": [
        "str = \"Musa khan\"\n",
        "print(str[5:])#[0:5]"
      ],
      "metadata": {
        "colab": {
          "base_uri": "https://localhost:8080/"
        },
        "id": "At_skw0vS7hO",
        "outputId": "21b7202d-a52a-4b25-8d77-ceb9c7d7b818"
      },
      "execution_count": 16,
      "outputs": [
        {
          "output_type": "stream",
          "name": "stdout",
          "text": [
            "khan\n"
          ]
        }
      ]
    },
    {
      "cell_type": "code",
      "source": [
        "str = \"Musa khan\"\n",
        "print(str[:9])#[5:len(str)]"
      ],
      "metadata": {
        "colab": {
          "base_uri": "https://localhost:8080/"
        },
        "id": "aWG387WQS9EO",
        "outputId": "90aec0e8-234a-4366-db11-52ec4702f848"
      },
      "execution_count": 15,
      "outputs": [
        {
          "output_type": "stream",
          "name": "stdout",
          "text": [
            "Musa khan\n"
          ]
        }
      ]
    },
    {
      "cell_type": "code",
      "source": [
        "str = \"Musa khan\"\n",
        "print(str[ :5])#[0:5]\n",
        "print(str[5: ])#[5:len(str)]"
      ],
      "metadata": {
        "colab": {
          "base_uri": "https://localhost:8080/"
        },
        "id": "uTbU38JdS_AC",
        "outputId": "a1ecc4ad-bf36-4be7-e971-e524c4b1bddf"
      },
      "execution_count": 14,
      "outputs": [
        {
          "output_type": "stream",
          "name": "stdout",
          "text": [
            "Musa \n",
            "khan\n"
          ]
        }
      ]
    },
    {
      "cell_type": "markdown",
      "source": [
        "#Slicing\n",
        "#Negative index\n",
        "\n",
        " A  p  p  l  e\n",
        "\n",
        "-5 -4 -3 -2 -1\n",
        "\n",
        "str = \"Apple\"\n",
        "\n",
        "str[-3 : -1] is \"pl\""
      ],
      "metadata": {
        "id": "DELUmkHvTGga"
      }
    },
    {
      "cell_type": "code",
      "source": [
        "str = \"Apple\"\n",
        "print(str[-5:-1])"
      ],
      "metadata": {
        "colab": {
          "base_uri": "https://localhost:8080/"
        },
        "id": "qMAvUf59TlSa",
        "outputId": "0874c0ab-9cc0-49dc-f151-d5123d83073a"
      },
      "execution_count": 21,
      "outputs": [
        {
          "output_type": "stream",
          "name": "stdout",
          "text": [
            "Appl\n"
          ]
        }
      ]
    },
    {
      "cell_type": "code",
      "source": [
        "str = \"Apple\"\n",
        "print(str[-3:-1])"
      ],
      "metadata": {
        "colab": {
          "base_uri": "https://localhost:8080/"
        },
        "id": "5J6AJ95pUBS2",
        "outputId": "c4aa0bf8-7e42-425b-b532-1d6fdd8d5494"
      },
      "execution_count": 25,
      "outputs": [
        {
          "output_type": "stream",
          "name": "stdout",
          "text": [
            "pl\n"
          ]
        }
      ]
    },
    {
      "cell_type": "markdown",
      "source": [
        "#String Functions\n",
        "str = \"I am a coder.\"\n",
        "\n",
        "str.endswith(\"er.\") #returns true if string ends with substr\n",
        "\n",
        "str.capitalize() #capitalizes 1st char\n",
        "\n",
        "str.replace(old, new) #replace all occurrences of old with new\n",
        "\n",
        "str.find(word) #returns 1st index of 1st occurrence\n",
        "\n",
        "str.count(\"am\") #count the occurrence of substr in string\n",
        "\n"
      ],
      "metadata": {
        "id": "t4YfUg6EUMG5"
      }
    },
    {
      "cell_type": "markdown",
      "source": [
        "#str.endswith(\"er.\") #returns true if string ends with substr"
      ],
      "metadata": {
        "id": "ZZ5S4i1UUee-"
      }
    },
    {
      "cell_type": "code",
      "source": [
        "str = \"I am studying python from ApnaCollege\"\n",
        "print(str.endswith(\"ege\"))\n"
      ],
      "metadata": {
        "colab": {
          "base_uri": "https://localhost:8080/"
        },
        "id": "BAZ46DHfUnrq",
        "outputId": "1e68448c-a914-45ca-803c-6440fe461c6e"
      },
      "execution_count": 26,
      "outputs": [
        {
          "output_type": "stream",
          "name": "stdout",
          "text": [
            "True\n"
          ]
        }
      ]
    },
    {
      "cell_type": "markdown",
      "source": [
        "#str.capitalize() #capitalizes 1st cha"
      ],
      "metadata": {
        "id": "hQzaQVlxUqk6"
      }
    },
    {
      "cell_type": "code",
      "source": [
        "str = \"i am studying python from ApnaCollege\"\n",
        "print(str.capitalize())\n",
        "print(str)"
      ],
      "metadata": {
        "colab": {
          "base_uri": "https://localhost:8080/"
        },
        "id": "PSIb6L1dUs0i",
        "outputId": "2748dd05-fd94-49a3-ae9b-6d467f67fc3d"
      },
      "execution_count": 27,
      "outputs": [
        {
          "output_type": "stream",
          "name": "stdout",
          "text": [
            "I am studying python from apnacollege\n",
            "i am studying python from ApnaCollege\n"
          ]
        }
      ]
    },
    {
      "cell_type": "code",
      "source": [
        "str = \"i am studying python from ApnaCollege\"\n",
        "str = str.capitalize()\n",
        "print(str)"
      ],
      "metadata": {
        "colab": {
          "base_uri": "https://localhost:8080/"
        },
        "id": "b8tU5un2UvVm",
        "outputId": "555d6d82-08f4-4559-d0e1-7a56f82477ec"
      },
      "execution_count": 28,
      "outputs": [
        {
          "output_type": "stream",
          "name": "stdout",
          "text": [
            "I am studying python from apnacollege\n"
          ]
        }
      ]
    },
    {
      "cell_type": "markdown",
      "source": [
        "#str.replace(old, new) #replace all occurrences of old with new"
      ],
      "metadata": {
        "id": "_qrEPR0NUzVK"
      }
    },
    {
      "cell_type": "code",
      "source": [
        "str = \"i am studying python from ApnaCollege\"\n",
        "print(str.replace(\"o\",\"a\"))"
      ],
      "metadata": {
        "colab": {
          "base_uri": "https://localhost:8080/"
        },
        "id": "9eI9e4dfU2He",
        "outputId": "51ce9c5c-eeab-4d89-a90f-9fccdb31fe03"
      },
      "execution_count": 29,
      "outputs": [
        {
          "output_type": "stream",
          "name": "stdout",
          "text": [
            "i am studying pythan fram ApnaCallege\n"
          ]
        }
      ]
    },
    {
      "cell_type": "code",
      "source": [
        "str = \"i am studying python from ApnaCollege\"\n",
        "print(str.replace(\"python\",\"javascript\"))"
      ],
      "metadata": {
        "colab": {
          "base_uri": "https://localhost:8080/"
        },
        "id": "WMGmgw25U4_S",
        "outputId": "c4af7e95-f3f8-47c5-9aec-10add51240a7"
      },
      "execution_count": 30,
      "outputs": [
        {
          "output_type": "stream",
          "name": "stdout",
          "text": [
            "i am studying javascript from ApnaCollege\n"
          ]
        }
      ]
    },
    {
      "cell_type": "markdown",
      "source": [
        "#str.find(word) #returns 1st index of 1st occurrence"
      ],
      "metadata": {
        "id": "GKibSiXzU7dG"
      }
    },
    {
      "cell_type": "code",
      "source": [
        "str = \"i am studying python from ApnaCollege\"\n",
        "print(str.find(\"o\"))\n"
      ],
      "metadata": {
        "colab": {
          "base_uri": "https://localhost:8080/"
        },
        "id": "8w_NCJcsU9n7",
        "outputId": "80e2631a-86d2-4d61-c027-e0d0e2e61992"
      },
      "execution_count": 31,
      "outputs": [
        {
          "output_type": "stream",
          "name": "stdout",
          "text": [
            "18\n"
          ]
        }
      ]
    },
    {
      "cell_type": "code",
      "source": [
        "str = \"i am from studying python from ApnaCollege\"\n",
        "print(str.find(\"from\"))"
      ],
      "metadata": {
        "colab": {
          "base_uri": "https://localhost:8080/"
        },
        "id": "z_JQX11GU_db",
        "outputId": "5cafd3cf-2a3b-4644-d957-56a9b94ea29a"
      },
      "execution_count": 32,
      "outputs": [
        {
          "output_type": "stream",
          "name": "stdout",
          "text": [
            "5\n"
          ]
        }
      ]
    },
    {
      "cell_type": "markdown",
      "source": [
        "#str.count(\"am\") #count the occurrence of substr in string"
      ],
      "metadata": {
        "id": "fSDlPEwnVBmG"
      }
    },
    {
      "cell_type": "code",
      "source": [
        "str = \"i am from studying python from ApnaCollege\"\n",
        "print(str.count(\"from\"))"
      ],
      "metadata": {
        "colab": {
          "base_uri": "https://localhost:8080/"
        },
        "id": "yiGowNG2VDV0",
        "outputId": "eb69bbe4-28e5-4750-844f-727e007c872b"
      },
      "execution_count": 33,
      "outputs": [
        {
          "output_type": "stream",
          "name": "stdout",
          "text": [
            "2\n"
          ]
        }
      ]
    },
    {
      "cell_type": "code",
      "source": [
        "str = \"i am from studying python from ApnaCollege\"\n",
        "print(str.count(\"o\"))"
      ],
      "metadata": {
        "colab": {
          "base_uri": "https://localhost:8080/"
        },
        "id": "zELaz0izVF7A",
        "outputId": "3d78befc-0c87-456d-dc23-9a1db8d5a678"
      },
      "execution_count": 34,
      "outputs": [
        {
          "output_type": "stream",
          "name": "stdout",
          "text": [
            "4\n"
          ]
        }
      ]
    },
    {
      "cell_type": "markdown",
      "source": [
        "#Let's Practice"
      ],
      "metadata": {
        "id": "NdpjtrLUVIaQ"
      }
    },
    {
      "cell_type": "markdown",
      "source": [
        "#WAP to input user's first name & print its length."
      ],
      "metadata": {
        "id": "4Ef4VD_PVK8e"
      }
    },
    {
      "cell_type": "code",
      "source": [
        "name = input(\"enter your name :\")\n",
        "print(\"length of your name is\", len(name))"
      ],
      "metadata": {
        "colab": {
          "base_uri": "https://localhost:8080/"
        },
        "id": "3K7_x7_dVUnV",
        "outputId": "1d748ae1-fdec-4e41-d122-c22f842d7ccb"
      },
      "execution_count": 35,
      "outputs": [
        {
          "output_type": "stream",
          "name": "stdout",
          "text": [
            "enter your name :musa khan\n",
            "length of your name is 9\n"
          ]
        }
      ]
    },
    {
      "cell_type": "markdown",
      "source": [
        "#WAP to find the occurrence of '$' in a String."
      ],
      "metadata": {
        "id": "vVkWZAqiVbn_"
      }
    },
    {
      "cell_type": "code",
      "source": [
        "str = \"Hi, $I am the $ symbol $99.87\"\n",
        "print(str.count(\"$\"))"
      ],
      "metadata": {
        "colab": {
          "base_uri": "https://localhost:8080/"
        },
        "id": "OrL8ejRtVm_i",
        "outputId": "63f83d24-5266-4dc1-9a92-9c84bf01120f"
      },
      "execution_count": 37,
      "outputs": [
        {
          "output_type": "stream",
          "name": "stdout",
          "text": [
            "3\n"
          ]
        }
      ]
    },
    {
      "cell_type": "markdown",
      "source": [
        "#Conditional Statements\n",
        "if-elif-else(SYNTAX)\n",
        "\n",
        "if(condition):\n",
        "\n",
        "    Statement1  \n",
        "\n",
        "elif(condition):\n",
        "\n",
        "     Statement2    \n",
        "\n",
        "else:\n",
        "     StatementN"
      ],
      "metadata": {
        "id": "Td7Gcp6UVtFx"
      }
    },
    {
      "cell_type": "markdown",
      "source": [
        "#if(condition):"
      ],
      "metadata": {
        "id": "g1uX8eKnV-gL"
      }
    },
    {
      "cell_type": "code",
      "source": [
        "age = 21\n",
        "\n",
        "if(age >= 18):\n",
        "    print(\"can vot & apply for license\")\n",
        "\n",
        "age = 16\n",
        "\n",
        "if(age >= 18):\n",
        "    print(\"can vot & apply for license\")"
      ],
      "metadata": {
        "colab": {
          "base_uri": "https://localhost:8080/"
        },
        "id": "Noue5xvnWBw4",
        "outputId": "2b786846-d2c2-41e5-f07e-0f5797ed3464"
      },
      "execution_count": 38,
      "outputs": [
        {
          "output_type": "stream",
          "name": "stdout",
          "text": [
            "can vot & apply for license\n"
          ]
        }
      ]
    },
    {
      "cell_type": "code",
      "source": [
        "age = 24\n",
        "\n",
        "if(age >= 18):\n",
        "    print(\"can vote\")\n",
        "    print(\"can drive\")"
      ],
      "metadata": {
        "colab": {
          "base_uri": "https://localhost:8080/"
        },
        "id": "Qs7NgggfWGsc",
        "outputId": "6d36b799-e3cc-4bf4-b586-b6c05120f1bb"
      },
      "execution_count": 39,
      "outputs": [
        {
          "output_type": "stream",
          "name": "stdout",
          "text": [
            "can vote\n",
            "can drive\n"
          ]
        }
      ]
    },
    {
      "cell_type": "markdown",
      "source": [
        "\n",
        "#elif(condition):"
      ],
      "metadata": {
        "id": "-5PpuRNAWJT8"
      }
    },
    {
      "cell_type": "code",
      "source": [
        "light = \"green\"\n",
        "\n",
        "if(light == \"red\"):\n",
        "    print(\"stop\")\n",
        "elif(light == \"green\"):\n",
        "    print(\"go\")\n",
        "elif(light == \"yellow\"):\n",
        "    print(\"look\")\n",
        "\n",
        "print(\"end of code\")"
      ],
      "metadata": {
        "colab": {
          "base_uri": "https://localhost:8080/"
        },
        "id": "2rS8tg7PWN7P",
        "outputId": "ad7fe46c-ef4d-46e8-b6fb-49304c744da5"
      },
      "execution_count": 40,
      "outputs": [
        {
          "output_type": "stream",
          "name": "stdout",
          "text": [
            "go\n",
            "end of code\n"
          ]
        }
      ]
    },
    {
      "cell_type": "markdown",
      "source": [
        "#else:"
      ],
      "metadata": {
        "id": "hXDnZNElWRID"
      }
    },
    {
      "cell_type": "code",
      "source": [
        "light = \"pink\"\n",
        "\n",
        "if(light == \"red\"):\n",
        "    print(\"stop\")\n",
        "elif(light == \"green\"):\n",
        "    print(\"go\")\n",
        "elif(light == \"yellow\"):\n",
        "    print(\"look\")\n",
        "else:\n",
        "    print(\"light is broken\")\n",
        "\n",
        "print(\"end of code\")"
      ],
      "metadata": {
        "colab": {
          "base_uri": "https://localhost:8080/"
        },
        "id": "-AGIUW07WVRR",
        "outputId": "2f82c597-22c4-4fd9-979f-f8a2484e1eb6"
      },
      "execution_count": 41,
      "outputs": [
        {
          "output_type": "stream",
          "name": "stdout",
          "text": [
            "light is broken\n",
            "end of code\n"
          ]
        }
      ]
    },
    {
      "cell_type": "code",
      "source": [
        "if(light == \"red\"):\n",
        "    print(\"stop\")\n",
        "elif(light == \"green\"):\n",
        "    print(\"go\")\n",
        "elif(light == \"yellow\"):\n",
        "    print(\"look\")\n",
        "else:\n",
        "    print(\"light is broken\")\n",
        "\n",
        "print(\"end of code\")"
      ],
      "metadata": {
        "colab": {
          "base_uri": "https://localhost:8080/"
        },
        "id": "c5z8SEVpWZUz",
        "outputId": "4e80df32-56d5-42a7-e606-74c20f4566c6"
      },
      "execution_count": 42,
      "outputs": [
        {
          "output_type": "stream",
          "name": "stdout",
          "text": [
            "light is broken\n",
            "end of code\n"
          ]
        }
      ]
    },
    {
      "cell_type": "code",
      "source": [
        "age = 24\n",
        "\n",
        "if(age >= 18):\n",
        "    print(\"can vote\")\n",
        "else:\n",
        "    print(\"CANNOT vote\")"
      ],
      "metadata": {
        "colab": {
          "base_uri": "https://localhost:8080/"
        },
        "id": "FMf1ikv4Wf5O",
        "outputId": "7afc0636-3759-490b-c77d-1ad098f1d32d"
      },
      "execution_count": 43,
      "outputs": [
        {
          "output_type": "stream",
          "name": "stdout",
          "text": [
            "can vote\n"
          ]
        }
      ]
    },
    {
      "cell_type": "code",
      "source": [
        "age = 14\n",
        "\n",
        "if(age >= 18):\n",
        "    print(\"can vote\")  #indentation\n",
        "else:\n",
        "    print(\"CANNOT vote\")"
      ],
      "metadata": {
        "colab": {
          "base_uri": "https://localhost:8080/"
        },
        "id": "npnEWepZWiA2",
        "outputId": "7aacd271-7b80-455e-dfe6-8cde94711a45"
      },
      "execution_count": 44,
      "outputs": [
        {
          "output_type": "stream",
          "name": "stdout",
          "text": [
            "CANNOT vote\n"
          ]
        }
      ]
    },
    {
      "cell_type": "markdown",
      "source": [
        "#Conditional Statements\n",
        "Grade students based on marks\n",
        "\n",
        "marks >= 90,grade = \"A\"\n",
        "\n",
        "90 > marks >= 80,grade =\"B\"\n",
        "\n",
        "70 > marks >= 70,grade =\"C\"\n",
        "\n",
        "70 > marks,grade = \"D\""
      ],
      "metadata": {
        "id": "1yo8u8cSWknW"
      }
    },
    {
      "cell_type": "code",
      "source": [
        "marks = int(input(\"enter student marks : \"))\n",
        "\n",
        "if(marks >=  90):\n",
        "    grade = \"A\"\n",
        "elif(marks >= 80 and marks <90):\n",
        "    grade = \"B\"\n",
        "elif(marks >= 70 and marks < 80):\n",
        "    grade = \"C\"\n",
        "else:\n",
        "    grade = \"D\"\n",
        "\n",
        "print(\"grade of the student ->\", grade)"
      ],
      "metadata": {
        "colab": {
          "base_uri": "https://localhost:8080/"
        },
        "id": "CrrHiFxhW3KD",
        "outputId": "e9a2dda2-e277-4553-cd01-63e5dab3336a"
      },
      "execution_count": 45,
      "outputs": [
        {
          "output_type": "stream",
          "name": "stdout",
          "text": [
            "enter student marks : 28\n",
            "grade of the student -> D\n"
          ]
        }
      ]
    },
    {
      "cell_type": "code",
      "source": [
        "age = 34\n",
        "\n",
        "      #nesting\n",
        "if(age >= 18):\n",
        "   if(age >= 80):\n",
        "       print(\"cannot drive\")\n",
        "   else:\n",
        "       print(\"can drive\")\n",
        "else:\n",
        "    print(\"cannot drive\")"
      ],
      "metadata": {
        "colab": {
          "base_uri": "https://localhost:8080/"
        },
        "id": "ZrK8hWizXCFT",
        "outputId": "ad834a7c-8519-4797-e31d-2dd298bad3df"
      },
      "execution_count": 46,
      "outputs": [
        {
          "output_type": "stream",
          "name": "stdout",
          "text": [
            "can drive\n"
          ]
        }
      ]
    },
    {
      "cell_type": "markdown",
      "source": [
        "#Let's Practice"
      ],
      "metadata": {
        "id": "FYc4IaVQXFM9"
      }
    },
    {
      "cell_type": "markdown",
      "source": [
        "#WAP to check if a number entered by the user is odd or even."
      ],
      "metadata": {
        "id": "QuSJx3i3XH8E"
      }
    },
    {
      "cell_type": "code",
      "source": [
        "num = int(input(\"enter number: \"))\n",
        "\n",
        "rem = num % 2\n",
        "if(rem == 0):\n",
        "    print(\"EVEN\")\n",
        "else:\n",
        "    print(\"ODD\")"
      ],
      "metadata": {
        "colab": {
          "base_uri": "https://localhost:8080/"
        },
        "id": "rVfdzoLKXLdO",
        "outputId": "8c5e3c83-63b7-48c5-c3db-06e6c04b883e"
      },
      "execution_count": 47,
      "outputs": [
        {
          "output_type": "stream",
          "name": "stdout",
          "text": [
            "enter number: 8\n",
            "EVEN\n"
          ]
        }
      ]
    },
    {
      "cell_type": "markdown",
      "source": [
        "#WAP to find the greatest of 3 numbers entered by the user."
      ],
      "metadata": {
        "id": "hGChP0JDXXmf"
      }
    },
    {
      "cell_type": "code",
      "source": [
        "a = int(input(\"enter first number: \"))\n",
        "b = int(input(\"enter first number: \"))\n",
        "c = int(input(\"enter first number: \"))\n",
        "\n",
        "if(a >= b and a >= c):\n",
        "    print(\"first number is largest\", a)\n",
        "elif(b >= c):\n",
        "    print(\"second number is largest\", b)\n",
        "else:\n",
        "    print(\"third number is largest\", c)"
      ],
      "metadata": {
        "colab": {
          "base_uri": "https://localhost:8080/"
        },
        "id": "mPOMsOCrXbQD",
        "outputId": "8c6ba626-bbfe-41e6-f862-0ba66b91dcb3"
      },
      "execution_count": 48,
      "outputs": [
        {
          "output_type": "stream",
          "name": "stdout",
          "text": [
            "enter first number: 234\n",
            "enter first number: 354\n",
            "enter first number: 543\n",
            "third number is largest 543\n"
          ]
        }
      ]
    },
    {
      "cell_type": "markdown",
      "source": [
        "#WAp to check if a number is a multiple of 7 or not."
      ],
      "metadata": {
        "id": "Neg4ZgfiXmRp"
      }
    },
    {
      "cell_type": "code",
      "source": [
        "x = int(input(\"enter number: \"))\n",
        "\n",
        "if(x % 7 == 0):\n",
        "    print(\"multiple of 7\")\n",
        "else:\n",
        "    print(\"not a multiple\")"
      ],
      "metadata": {
        "colab": {
          "base_uri": "https://localhost:8080/"
        },
        "id": "7DhewV0oYqwC",
        "outputId": "f50ee86b-ead6-4e82-b6f4-699b13e786bb"
      },
      "execution_count": 49,
      "outputs": [
        {
          "output_type": "stream",
          "name": "stdout",
          "text": [
            "enter number: 21\n",
            "multiple of 7\n"
          ]
        }
      ]
    }
  ]
}