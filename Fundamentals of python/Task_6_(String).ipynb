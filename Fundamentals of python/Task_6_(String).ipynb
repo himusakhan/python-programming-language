{
  "nbformat": 4,
  "nbformat_minor": 0,
  "metadata": {
    "colab": {
      "provenance": []
    },
    "kernelspec": {
      "name": "python3",
      "display_name": "Python 3"
    },
    "language_info": {
      "name": "python"
    }
  },
  "cells": [
    {
      "cell_type": "markdown",
      "source": [
        "#**String:**\n",
        "\n",
        "   #It is a data type that stores a sequence of charactors.String data may be in single,double or tripple codes but usually we use double codes.\n"
      ],
      "metadata": {
        "id": "7MaRNpgOfSuo"
      }
    },
    {
      "cell_type": "code",
      "source": [
        "str1 = ('Welcom to string topic.')\n",
        "str2 = (\"Welcom to string topic.\")\n",
        "str3 = (\"\"\"Welcom to string topi\"\"\")\n",
        "print(str1)\n",
        "print(str2)\n",
        "print(str3)  #same output of all print statement.\n"
      ],
      "metadata": {
        "colab": {
          "base_uri": "https://localhost:8080/"
        },
        "id": "B6S_Vs_tfbP1",
        "outputId": "b67aeb32-b5a9-4d25-d2d5-d4d5fb76e8cf"
      },
      "execution_count": 13,
      "outputs": [
        {
          "output_type": "stream",
          "name": "stdout",
          "text": [
            "Welcom to string topic.\n",
            "Welcom to string topic.\n",
            "Welcom to string topi\n"
          ]
        }
      ]
    },
    {
      "cell_type": "markdown",
      "source": [
        "(1)Escape sequence character\n",
        "\n",
        "(2)/n use for nxt line\n",
        "\n",
        "(3)/t use for tab (space)\n",
        "\n",
        "(4)Some Basic Operation\n",
        "\n",
        "(5)Concatenation:\n"
      ],
      "metadata": {
        "id": "bYjVl1nuffiy"
      }
    },
    {
      "cell_type": "markdown",
      "source": [
        "It used for adding more than one string i-e;"
      ],
      "metadata": {
        "id": "srcBojvvgg4j"
      }
    },
    {
      "cell_type": "code",
      "source": [
        "a = (\"One of my frind,\")\n",
        "b = (\"his name is hassan.\")\n",
        "print(a+b)"
      ],
      "metadata": {
        "colab": {
          "base_uri": "https://localhost:8080/"
        },
        "id": "gJvHMSGSgj3P",
        "outputId": "eec33712-7d49-45a5-f4e6-b0776e12b9f9"
      },
      "execution_count": 17,
      "outputs": [
        {
          "output_type": "stream",
          "name": "stdout",
          "text": [
            "One of my frind,his name is hassan.\n"
          ]
        }
      ]
    },
    {
      "cell_type": "markdown",
      "source": [
        "#Length of string\n",
        "We find the length of string by using len function"
      ],
      "metadata": {
        "id": "2Kq4xiomhLUh"
      }
    },
    {
      "cell_type": "code",
      "source": [
        "a = (\"One of my frind,\")\n",
        "b = (\"his name is hassan.\")\n",
        "c = a + b\n",
        "print(len(c))\n",
        "print(c)"
      ],
      "metadata": {
        "colab": {
          "base_uri": "https://localhost:8080/"
        },
        "id": "KRmojvLWg2Xp",
        "outputId": "1ba9b5d4-975f-4143-e7d6-217604743967"
      },
      "execution_count": 18,
      "outputs": [
        {
          "output_type": "stream",
          "name": "stdout",
          "text": [
            "35\n",
            "One of my frind,his name is hassan.\n"
          ]
        }
      ]
    },
    {
      "cell_type": "markdown",
      "source": [
        "#Indexing\n",
        "\n",
        "It is a kind of position of any charactor in string.It helps to access charactor."
      ],
      "metadata": {
        "id": "Y3AkfUnkg8UN"
      }
    },
    {
      "cell_type": "code",
      "source": [
        "d11 = (\"Sun rises from the East,\")\n",
        "print(d11[2])    #syntax of index in a string\n",
        "print(d11[4])    #syntax of index in a string"
      ],
      "metadata": {
        "colab": {
          "base_uri": "https://localhost:8080/"
        },
        "id": "fD2jerFIhTMf",
        "outputId": "db836f9c-a8ec-41e6-c95e-f4fc3357f251"
      },
      "execution_count": 19,
      "outputs": [
        {
          "output_type": "stream",
          "name": "stdout",
          "text": [
            "n\n",
            "r\n"
          ]
        }
      ]
    },
    {
      "cell_type": "markdown",
      "source": [
        "#Negative Indexing\n",
        "\n",
        "similarly negative indexing just revers of above index methods."
      ],
      "metadata": {
        "id": "LhJ4tb4FhVcH"
      }
    },
    {
      "cell_type": "code",
      "source": [
        "d111 = (\"Sun rises from the East,\")\n",
        "print(d111[-2])\n",
        "print(d111[-5])"
      ],
      "metadata": {
        "colab": {
          "base_uri": "https://localhost:8080/"
        },
        "id": "MGJO6y8shb3Q",
        "outputId": "15b5b734-2f0b-48a3-b07a-5b326509a51e"
      },
      "execution_count": 20,
      "outputs": [
        {
          "output_type": "stream",
          "name": "stdout",
          "text": [
            "t\n",
            "E\n"
          ]
        }
      ]
    },
    {
      "cell_type": "markdown",
      "source": [
        "#Slicing\n",
        "\n",
        "To make the parts of string is simply called slicing."
      ],
      "metadata": {
        "id": "1HHYwiWxhehT"
      }
    },
    {
      "cell_type": "code",
      "source": [
        "f = (\"Sun rises from the East and same scenario happens always.\")\n",
        "print(f[28:57])\n",
        "print(f[28:])   #same output python automatically detect the end index without mentioning.\n",
        "print(f[:24])\n"
      ],
      "metadata": {
        "colab": {
          "base_uri": "https://localhost:8080/"
        },
        "id": "eJ6iEa4thjjr",
        "outputId": "23e54087-666c-4828-fe25-a66c34628ec4"
      },
      "execution_count": 21,
      "outputs": [
        {
          "output_type": "stream",
          "name": "stdout",
          "text": [
            "same scenario happens always.\n",
            "same scenario happens always.\n",
            "Sun rises from the East \n"
          ]
        }
      ]
    },
    {
      "cell_type": "markdown",
      "source": [
        "#Negative Slicing\n",
        "\n",
        "It same like slicing but just revers of above slicing."
      ],
      "metadata": {
        "id": "HIvAYt3_hl2J"
      }
    },
    {
      "cell_type": "code",
      "source": [
        "f1 = (\"Sun rises from the East and same scenario happens always.\")\n",
        "print(f1[-29:-1])\n",
        "print(f1[-57:-24])"
      ],
      "metadata": {
        "colab": {
          "base_uri": "https://localhost:8080/"
        },
        "id": "kpi3YQ39hvTP",
        "outputId": "b6c5cc69-d73d-4e31-93a0-b65b5b3d6cfc"
      },
      "execution_count": 22,
      "outputs": [
        {
          "output_type": "stream",
          "name": "stdout",
          "text": [
            "same scenario happens always\n",
            "Sun rises from the East and same \n"
          ]
        }
      ]
    },
    {
      "cell_type": "markdown",
      "source": [
        "#Methods\n",
        "\n",
        "Methods are some rules which perform specific task in any funtion and these are specific or may not be specific i-e like here we discuss\n",
        "some methods which is only applicable in string but may not be applicable in list,tupple etc...\n",
        "\n",
        "#.Endswith()Methods"
      ],
      "metadata": {
        "id": "cN8oieC4hyzw"
      }
    },
    {
      "cell_type": "code",
      "source": [
        "g = (\"I have started coding journey since 2024\")\n",
        "print(g.endswith(\"2024\"))  #It returns the bolean value, if the word is present in the string return True otherwise Not return.\n"
      ],
      "metadata": {
        "colab": {
          "base_uri": "https://localhost:8080/"
        },
        "id": "lFxMX9C7iBRX",
        "outputId": "64a20eca-c1a3-4393-84bb-1a116dd7f086"
      },
      "execution_count": 23,
      "outputs": [
        {
          "output_type": "stream",
          "name": "stdout",
          "text": [
            "True\n"
          ]
        }
      ]
    },
    {
      "cell_type": "markdown",
      "source": [
        "#.Capitalize() Method"
      ],
      "metadata": {
        "id": "IUM-UaS1iEI-"
      }
    },
    {
      "cell_type": "code",
      "source": [
        "g = (\"i have started coding journey since 2024\")\n",
        "print(g.capitalize())   #It returns the first word in capital letter,if the starting leeting is in small.\n"
      ],
      "metadata": {
        "colab": {
          "base_uri": "https://localhost:8080/"
        },
        "id": "djkbJtGLiGF3",
        "outputId": "047d05ae-3099-4da7-aec4-d3d28763eddf"
      },
      "execution_count": 24,
      "outputs": [
        {
          "output_type": "stream",
          "name": "stdout",
          "text": [
            "I have started coding journey since 2024\n"
          ]
        }
      ]
    },
    {
      "cell_type": "markdown",
      "source": [
        "#.Upper() Mthod\n",
        "\n",
        "It returns the all letters in capital letter."
      ],
      "metadata": {
        "id": "2e-fQx85iMRn"
      }
    },
    {
      "cell_type": "code",
      "source": [
        "h = (\"learing coding is my passion.\")\n",
        "print(h.upper())\n"
      ],
      "metadata": {
        "colab": {
          "base_uri": "https://localhost:8080/"
        },
        "id": "kpcI7l1siUKj",
        "outputId": "e4e45510-2a7d-42a2-9d00-4d8a853f4f3d"
      },
      "execution_count": 25,
      "outputs": [
        {
          "output_type": "stream",
          "name": "stdout",
          "text": [
            "LEARING CODING IS MY PASSION.\n"
          ]
        }
      ]
    },
    {
      "cell_type": "markdown",
      "source": [
        "#.Lower() Method"
      ],
      "metadata": {
        "id": "x3dcde5WiXh3"
      }
    },
    {
      "cell_type": "code",
      "source": [
        "h1 = (\"Learing CODING is my PASSION.\")\n",
        "print(h1.lower())\n"
      ],
      "metadata": {
        "colab": {
          "base_uri": "https://localhost:8080/"
        },
        "id": "Ue1sEIQ2iad_",
        "outputId": "da683be2-de2f-4ae5-8908-281c2bd0dc41"
      },
      "execution_count": 26,
      "outputs": [
        {
          "output_type": "stream",
          "name": "stdout",
          "text": [
            "learing coding is my passion.\n"
          ]
        }
      ]
    }
  ]
}