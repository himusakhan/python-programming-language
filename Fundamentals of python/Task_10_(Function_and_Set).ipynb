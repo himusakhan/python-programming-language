{
  "nbformat": 4,
  "nbformat_minor": 0,
  "metadata": {
    "colab": {
      "provenance": []
    },
    "kernelspec": {
      "name": "python3",
      "display_name": "Python 3"
    },
    "language_info": {
      "name": "python"
    }
  },
  "cells": [
    {
      "cell_type": "markdown",
      "source": [
        "#**Function:**\n",
        "\n",
        "#function definition\n",
        "\n",
        "Block of statements that perform a specific task.It is used to reduce the redundantancy (repeatition in same code).\n",
        "\n",
        "\n"
      ],
      "metadata": {
        "id": "nnaFEu_t5ghg"
      }
    },
    {
      "cell_type": "code",
      "source": [
        "def mult(a,b): #parameters\n",
        "    mult= (a*b)\n",
        "    print(mult)\n",
        "    return mult\n",
        "\n",
        "mult(2,2)  #function call : arguments\n",
        "mult(2,3)\n",
        "mult(3,3)\n",
        "mult(3,6)\n",
        "\n",
        "def averageformula(a,b,c):\n",
        "    sum = a+b+c\n",
        "    average=sum/3\n",
        "    print(average)\n",
        "\n",
        "averageformula(1,2,3)"
      ],
      "metadata": {
        "id": "gslMoPvH5-Ft",
        "outputId": "eebfd82f-ca92-4738-ee80-4f2d4d570166",
        "colab": {
          "base_uri": "https://localhost:8080/"
        }
      },
      "execution_count": 87,
      "outputs": [
        {
          "output_type": "stream",
          "name": "stdout",
          "text": [
            "4\n",
            "6\n",
            "9\n",
            "18\n",
            "2.0\n"
          ]
        }
      ]
    },
    {
      "cell_type": "markdown",
      "source": [
        "#**Set:**\n",
        "\n",
        "It is a collection of unordered(without index) items.\n",
        "\n",
        "Each element in the set must be unique and immutable like tupple.\n",
        "\n",
        "In set data type \"set\"cansider duplicte elements as a single element.\n"
      ],
      "metadata": {
        "id": "tOFJ18l96DQR"
      }
    },
    {
      "cell_type": "code",
      "source": [
        "a={1,2,3,4,5}  #duplicate keys present but it returns only single key.\n",
        "print(a)\n",
        "print(type(a))\n",
        "print(len(a))\n"
      ],
      "metadata": {
        "id": "tykXuXoE6PG1",
        "outputId": "96f5f1d6-e79f-4413-e7f2-678cb56f90b1",
        "colab": {
          "base_uri": "https://localhost:8080/"
        }
      },
      "execution_count": 88,
      "outputs": [
        {
          "output_type": "stream",
          "name": "stdout",
          "text": [
            "{1, 2, 3, 4, 5}\n",
            "<class 'set'>\n",
            "5\n"
          ]
        }
      ]
    },
    {
      "cell_type": "markdown",
      "source": [
        "#empty set:\n",
        "\n",
        "How to print an empty set."
      ],
      "metadata": {
        "id": "f_sJNdQU6he9"
      }
    },
    {
      "cell_type": "code",
      "source": [
        "b = set()   #syntax of an empty set.\n",
        "print(type(b))\n"
      ],
      "metadata": {
        "id": "gom1NGYO6nwd",
        "outputId": "c5f15228-1827-4e78-b3e1-2741a4742158",
        "colab": {
          "base_uri": "https://localhost:8080/"
        }
      },
      "execution_count": 89,
      "outputs": [
        {
          "output_type": "stream",
          "name": "stdout",
          "text": [
            "<class 'set'>\n"
          ]
        }
      ]
    },
    {
      "cell_type": "markdown",
      "source": [
        "#Set Methods\n",
        "#.Add() Method\n",
        "\n",
        "It adds an elements in set.\n"
      ],
      "metadata": {
        "id": "hcWPtWaZ6q5a"
      }
    },
    {
      "cell_type": "code",
      "source": [
        "b = set()    #An empty set.\n",
        "b.add(1)\n",
        "b.add(2)\n",
        "b.add((\"a\",\"b\",\"c\"))  #Adding of tupple.\n",
        "print(b)"
      ],
      "metadata": {
        "id": "glFpPa3C6urj",
        "outputId": "945b847f-a378-4b4a-9e6b-36c45823bbc9",
        "colab": {
          "base_uri": "https://localhost:8080/"
        }
      },
      "execution_count": 90,
      "outputs": [
        {
          "output_type": "stream",
          "name": "stdout",
          "text": [
            "{('a', 'b', 'c'), 1, 2}\n"
          ]
        }
      ]
    },
    {
      "cell_type": "markdown",
      "source": [
        "#.Remove Method\n",
        "\n",
        "It removes elements from the set.\n"
      ],
      "metadata": {
        "id": "dLw1R6Ec6yoF"
      }
    },
    {
      "cell_type": "code",
      "source": [
        "c = {2,3,4,5,6}\n",
        "c.remove(3)\n",
        "print(c)\n"
      ],
      "metadata": {
        "id": "eDGW3MIO62Dx",
        "outputId": "d193375b-d858-41b7-b14e-202c1f5e8592",
        "colab": {
          "base_uri": "https://localhost:8080/"
        }
      },
      "execution_count": 91,
      "outputs": [
        {
          "output_type": "stream",
          "name": "stdout",
          "text": [
            "{2, 4, 5, 6}\n"
          ]
        }
      ]
    },
    {
      "cell_type": "markdown",
      "source": [
        "#.Clear Method\n",
        "\n",
        "It clear all the elements inside the set.\n"
      ],
      "metadata": {
        "id": "V3ynaJ6F64e7"
      }
    },
    {
      "cell_type": "code",
      "source": [
        "d = {\"hassan\",\"musa\",\"hamza\"}\n",
        "d.clear()\n",
        "print(d)    # clean the set.\n"
      ],
      "metadata": {
        "id": "cSL05R9D676H",
        "outputId": "cf52493b-e1cd-45b7-c271-7febd53c43bb",
        "colab": {
          "base_uri": "https://localhost:8080/"
        }
      },
      "execution_count": 92,
      "outputs": [
        {
          "output_type": "stream",
          "name": "stdout",
          "text": [
            "set()\n"
          ]
        }
      ]
    },
    {
      "cell_type": "markdown",
      "source": [
        "#.Union Method\n",
        "\n",
        "It cmbines both set values and returns new values.\n"
      ],
      "metadata": {
        "id": "9PDNpX8_6-7f"
      }
    },
    {
      "cell_type": "code",
      "source": [
        "f = {1,2,3}\n",
        "g = {3,4,5,6}\n",
        "print(f.union(g))  #It is returns the both set values.\n"
      ],
      "metadata": {
        "id": "Ou8uSQMz7Cb3",
        "outputId": "0500e701-4c40-4224-aaf6-61f20755b20b",
        "colab": {
          "base_uri": "https://localhost:8080/"
        }
      },
      "execution_count": 93,
      "outputs": [
        {
          "output_type": "stream",
          "name": "stdout",
          "text": [
            "{1, 2, 3, 4, 5, 6}\n"
          ]
        }
      ]
    },
    {
      "cell_type": "markdown",
      "source": [
        "#.Intersection Method\n",
        "\n",
        "It combines common values and returns new values.\n"
      ],
      "metadata": {
        "id": "oMkwgnGc7FGx"
      }
    },
    {
      "cell_type": "code",
      "source": [
        "h = {1,2,3,4,5,6}\n",
        "i = {4,5,6,2,8,9,}\n",
        "print(h.intersection(i))   #It returns the common elements.\n"
      ],
      "metadata": {
        "id": "NZB9kOP87IBZ",
        "outputId": "6111db82-e9d0-4ee5-c3a6-7e54edd33cf7",
        "colab": {
          "base_uri": "https://localhost:8080/"
        }
      },
      "execution_count": 94,
      "outputs": [
        {
          "output_type": "stream",
          "name": "stdout",
          "text": [
            "{2, 4, 5, 6}\n"
          ]
        }
      ]
    }
  ]
}