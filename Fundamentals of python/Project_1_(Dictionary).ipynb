{
  "nbformat": 4,
  "nbformat_minor": 0,
  "metadata": {
    "colab": {
      "provenance": []
    },
    "kernelspec": {
      "name": "python3",
      "display_name": "Python 3"
    },
    "language_info": {
      "name": "python"
    }
  },
  "cells": [
    {
      "cell_type": "markdown",
      "source": [
        "#**Small Project related to Dictionary::**\n",
        "\n",
        "write a program and take marks of 3 subjects from the user and\n",
        "store them in a dictionary.Start with an empty dictionary and add\n",
        "one by one.Use subject name as key and marks as value.\n"
      ],
      "metadata": {
        "id": "LCv0puYw8Mff"
      }
    },
    {
      "cell_type": "code",
      "source": [
        "empty_dic={}        #empty dictionary\n",
        "bio = int(input(\"Enter your marks\"))\n",
        "che = int(input(\"Enter your marks\"))\n",
        "phy = int(input(\"Enter your marks\"))\n",
        "\n",
        "empty_dic.update({\"bio\":bio})     # .update method used7\n",
        "empty_dic.update({\"che\":che})\n",
        "empty_dic.update({\"phy\":phy})\n"
      ],
      "metadata": {
        "id": "j3IKpprr8W4S",
        "outputId": "c86786c8-6d98-489b-dd09-1a30dcc64163",
        "colab": {
          "base_uri": "https://localhost:8080/"
        }
      },
      "execution_count": 97,
      "outputs": [
        {
          "name": "stdout",
          "output_type": "stream",
          "text": [
            "Enter your marks99\n",
            "Enter your marks99\n",
            "Enter your marks99\n"
          ]
        }
      ]
    }
  ]
}