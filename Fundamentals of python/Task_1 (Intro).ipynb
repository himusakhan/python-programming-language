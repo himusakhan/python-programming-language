{
  "nbformat": 4,
  "nbformat_minor": 0,
  "metadata": {
    "colab": {
      "provenance": []
    },
    "kernelspec": {
      "name": "python3",
      "display_name": "Python 3"
    },
    "language_info": {
      "name": "python"
    }
  },
  "cells": [
    {
      "cell_type": "code",
      "execution_count": null,
      "metadata": {
        "id": "LdOOIuw0AdMS"
      },
      "outputs": [],
      "source": []
    },
    {
      "cell_type": "markdown",
      "source": [
        "#**INTRODUCTION TO PYTHON AS A PROGRAMMING LANGUAGE**\n",
        "#Lecture:1\n",
        "#Variables\n",
        "#Data types\n",
        "#Operations\n",
        "\n",
        "#what is progeaming ?\n",
        "\n",
        "  #programing is basically the instructions which is given to the machine in the form of cod,which is also called hiigh level language and\n",
        "thoseinstructions are traslated throug traslator i-e compiler and interpreter to the machine,which is also called low language.So\n",
        "we have a lot of programing languages like C++,java,python etc...Snow here in the chapter we disuss \"Python as a programing\n",
        "language\" which is also called High level language.#\n",
        "\n",
        "#What is python ?\n",
        "\n",
        "python is simple &Easy language.\n",
        "\n",
        "Free & Open Source\n",
        "\n",
        "High Level Language\n",
        "\n",
        "Easily Understandable Language\n",
        "\n",
        "Developed by Guido van Rossum\n",
        "\n",
        "Potable(run on every operating system)\n",
        "\n",
        "Case Sensitive language\n",
        "\n",
        "#Why python ?\n",
        "\n",
        "Verastile language\n",
        "\n",
        "Use in AI & ML\n",
        "\n",
        "Use in data science\n",
        "\n",
        "Use in web Development\n",
        "\n",
        "Use in Game Development\n",
        "\n",
        "Before starting coding in python we need to download python\n",
        "\n",
        "And VS Cod editor or any cod editor in our operation system.\n",
        "\n",
        "#OurFirst Program"
      ],
      "metadata": {
        "id": "LKgHEnvpAd5x"
      }
    },
    {
      "cell_type": "code",
      "source": [
        "print(\"starting with the supreme name of Allah.\")\n",
        "print(\"Welcome to our Python leraning Gourney.\")\n",
        "print(\"Good Morning\")\n",
        "print(\"Hello Word!\")"
      ],
      "metadata": {
        "colab": {
          "base_uri": "https://localhost:8080/"
        },
        "id": "y2k1HzrfB9xn",
        "outputId": "d337b791-94ea-4888-e749-eba89257c0f7"
      },
      "execution_count": 1,
      "outputs": [
        {
          "output_type": "stream",
          "name": "stdout",
          "text": [
            "starting with the supreme name of Allah.\n",
            "Welcome to our Python leraning Gourney.\n",
            "Good Morning\n",
            "Hello Word!\n"
          ]
        }
      ]
    },
    {
      "cell_type": "markdown",
      "source": [
        "Python Character Sets\n",
        "\n",
        "Letters:A to Z, a to z\n",
        "\n",
        "Digits:0 to 9  \n",
        "\n",
        "Special Symbols:-,+,*,/ etc...\n",
        "\n",
        "Whitespaces:Blank Space,Tabe,Carriage return,newlui etc...\n",
        "\n",
        "#Note:\n"
      ],
      "metadata": {
        "id": "9AiYaHabCZW7"
      }
    },
    {
      "cell_type": "code",
      "source": [
        "print(\"starting with the supreme name of almightAllah.He is the most merciful.\")  #normal string\n",
        "print(\"starting with the supreme name of almight Allah.\\nHe is the most merciful.\")  #start from next line when put\"\\n\".\n",
        "print(\"starting with the supreme name of almight Allah.\\tHe is the most merciful.\")  #leave one word space when put \"\\t\".\n"
      ],
      "metadata": {
        "colab": {
          "base_uri": "https://localhost:8080/"
        },
        "id": "NVicK9ruCttS",
        "outputId": "6b6a96b3-0ae7-4096-c69d-f73cf64c36aa"
      },
      "execution_count": 2,
      "outputs": [
        {
          "output_type": "stream",
          "name": "stdout",
          "text": [
            "starting with the supreme name of almightAllah.He is the most merciful.\n",
            "starting with the supreme name of almight Allah.\n",
            "He is the most merciful.\n",
            "starting with the supreme name of almight Allah.\tHe is the most merciful.\n"
          ]
        }
      ]
    },
    {
      "cell_type": "markdown",
      "source": [
        "#Variable\n",
        "\n",
        "It is a name given to memory which is varies in a program.\n",
        "For sentance\n"
      ],
      "metadata": {
        "id": "G9MKkRm_C0s0"
      }
    },
    {
      "cell_type": "code",
      "source": [
        "name = \"The Winners\"\n",
        "age = 35\n",
        "marks = 100.0\n",
        "print(name)\n",
        "print(age)\n",
        "print(marks)   #Here we think about double commas which we didnot writ while using variables in print section, so for variables don't use double commas in print()function.\n"
      ],
      "metadata": {
        "colab": {
          "base_uri": "https://localhost:8080/"
        },
        "id": "fOORIx4vC9KQ",
        "outputId": "acec3128-1585-4a38-b54b-c99e185b0e1d"
      },
      "execution_count": 3,
      "outputs": [
        {
          "output_type": "stream",
          "name": "stdout",
          "text": [
            "The Winners\n",
            "35\n",
            "100.0\n"
          ]
        }
      ]
    },
    {
      "cell_type": "markdown",
      "source": [
        "Other way to write same variables in a sentence i-e;\n"
      ],
      "metadata": {
        "id": "9wYnpd2LDEYa"
      }
    },
    {
      "cell_type": "code",
      "source": [
        "name = \"the winners\"\n",
        "age = 35\n",
        "marks = 100.0\n",
        "print(\"My name is:\",name)\n",
        "print(\"My age is:\",age)\n",
        "print(\"My marks is:\",marks)\n"
      ],
      "metadata": {
        "colab": {
          "base_uri": "https://localhost:8080/"
        },
        "id": "3jANyJYwDIHi",
        "outputId": "e8fc4be2-53ff-47a1-f481-1445e0c9f383"
      },
      "execution_count": 4,
      "outputs": [
        {
          "output_type": "stream",
          "name": "stdout",
          "text": [
            "My name is: the winners\n",
            "My age is: 35\n",
            "My marks is: 100.0\n"
          ]
        }
      ]
    }
  ]
}