{
  "nbformat": 4,
  "nbformat_minor": 0,
  "metadata": {
    "colab": {
      "provenance": []
    },
    "kernelspec": {
      "name": "python3",
      "display_name": "Python 3"
    },
    "language_info": {
      "name": "python"
    }
  },
  "cells": [
    {
      "cell_type": "markdown",
      "source": [
        "#**Operaters and Type Conversion**\n",
        "\n",
        "#Arthematic Operators(+,-,*,/,%,**)\n"
      ],
      "metadata": {
        "id": "s0OJeVieGvBa"
      }
    },
    {
      "cell_type": "code",
      "source": [
        "hassan = 6\n",
        "musa = 6\n",
        "print(hassan + musa) # + operater\n",
        "print(hassan - musa) # - operater\n",
        "print(hassan * musa) # * operater\n",
        "print(hassan % musa) # % operater\n",
        "print(hassan ** musa) # ** operater\n",
        "print(hassan / musa) # / operater\n"
      ],
      "metadata": {
        "colab": {
          "base_uri": "https://localhost:8080/"
        },
        "id": "JfGR1FDVG6Ng",
        "outputId": "86167e66-2b09-4a6a-89fb-cd884b877c48"
      },
      "execution_count": 11,
      "outputs": [
        {
          "output_type": "stream",
          "name": "stdout",
          "text": [
            "12\n",
            "0\n",
            "36\n",
            "0\n",
            "46656\n",
            "1.0\n"
          ]
        }
      ]
    },
    {
      "cell_type": "markdown",
      "source": [
        "difference b/w Division \"/\"and Floor Division\"//\"\n",
        "\n",
        "\"\"\"Single divide returns the float type value while double // returns the integer value.\"\"\"\n"
      ],
      "metadata": {
        "id": "uI9i40NhG_Ha"
      }
    },
    {
      "cell_type": "code",
      "source": [
        "x = 10\n",
        "y = 10\n",
        "print(x/y)  # float type output\n"
      ],
      "metadata": {
        "colab": {
          "base_uri": "https://localhost:8080/"
        },
        "id": "JsERfLVoHID2",
        "outputId": "5a5e2f1e-39d1-4787-f0f4-d1dcf15a7aaf"
      },
      "execution_count": 12,
      "outputs": [
        {
          "output_type": "stream",
          "name": "stdout",
          "text": [
            "1.0\n"
          ]
        }
      ]
    },
    {
      "cell_type": "markdown",
      "source": [
        "#Floor Division Operater:\n"
      ],
      "metadata": {
        "id": "x1HPE0MQHLEu"
      }
    },
    {
      "cell_type": "code",
      "source": [
        "x = 20\n",
        "y = 20\n",
        "print(x//y)  # Floor Division (integer type output)\n"
      ],
      "metadata": {
        "colab": {
          "base_uri": "https://localhost:8080/"
        },
        "id": "88YGSYvcHRvJ",
        "outputId": "332980d1-1e79-4fdf-9569-dfd1bcb3a525"
      },
      "execution_count": 13,
      "outputs": [
        {
          "output_type": "stream",
          "name": "stdout",
          "text": [
            "1\n"
          ]
        }
      ]
    },
    {
      "cell_type": "markdown",
      "source": [
        "Relation / Comparison Operater (==,!=,>=,<=,)\n",
        "\n",
        "It always returns the boolean type value.\n"
      ],
      "metadata": {
        "id": "GvdnnB1nHU3m"
      }
    },
    {
      "cell_type": "code",
      "source": [
        "s = 40\n",
        "r = 20\n",
        "t = (s == r)\n",
        "t1 = (s!= r)\n",
        "t2 = (s >= r)\n",
        "t3 = (s <= r)\n",
        "t4 = (s < r)\n",
        "t5 = (s > r)\n",
        "print(t)\n",
        "print(t1)\n",
        "print(t2)\n",
        "print(t3)\n",
        "print(t4)\n",
        "print(t5)\n"
      ],
      "metadata": {
        "colab": {
          "base_uri": "https://localhost:8080/"
        },
        "id": "nqOeHtcwHck2",
        "outputId": "2774d4f2-7a80-4448-ede3-a16ea91d8c56"
      },
      "execution_count": 14,
      "outputs": [
        {
          "output_type": "stream",
          "name": "stdout",
          "text": [
            "False\n",
            "True\n",
            "True\n",
            "False\n",
            "False\n",
            "True\n"
          ]
        }
      ]
    },
    {
      "cell_type": "markdown",
      "source": [
        "#Assignme ent Operators (=,+=,*=,-=,/=,%=,**=)\n"
      ],
      "metadata": {
        "id": "7yohrsusHfSe"
      }
    },
    {
      "cell_type": "code",
      "source": [
        "a = 30\n",
        "a = 20\n",
        "print(a)\n"
      ],
      "metadata": {
        "colab": {
          "base_uri": "https://localhost:8080/"
        },
        "id": "7kEWh3TCHrFc",
        "outputId": "25c164eb-453d-4c71-ceb7-a7274d535e47"
      },
      "execution_count": 17,
      "outputs": [
        {
          "output_type": "stream",
          "name": "stdout",
          "text": [
            "20\n"
          ]
        }
      ]
    },
    {
      "cell_type": "code",
      "source": [
        "a = 30\n",
        "a += 20\n",
        "print(a)\n"
      ],
      "metadata": {
        "colab": {
          "base_uri": "https://localhost:8080/"
        },
        "id": "g6lsTeYrHta-",
        "outputId": "e0472921-d1d1-4745-e4e4-17430f94fce9"
      },
      "execution_count": 18,
      "outputs": [
        {
          "output_type": "stream",
          "name": "stdout",
          "text": [
            "50\n"
          ]
        }
      ]
    },
    {
      "cell_type": "code",
      "source": [
        "a = 30\n",
        "a -= 20\n",
        "print(a)\n"
      ],
      "metadata": {
        "colab": {
          "base_uri": "https://localhost:8080/"
        },
        "id": "GHkflk6XHv70",
        "outputId": "799775aa-fbb9-4494-eae5-c2d910272b87"
      },
      "execution_count": 19,
      "outputs": [
        {
          "output_type": "stream",
          "name": "stdout",
          "text": [
            "10\n"
          ]
        }
      ]
    },
    {
      "cell_type": "code",
      "source": [
        "a = 30\n",
        "a *= 20\n",
        "print(a)"
      ],
      "metadata": {
        "colab": {
          "base_uri": "https://localhost:8080/"
        },
        "id": "FpJX4znuHx4R",
        "outputId": "0acaa2a5-386d-41d3-f48e-6d6a8e8225e1"
      },
      "execution_count": 20,
      "outputs": [
        {
          "output_type": "stream",
          "name": "stdout",
          "text": [
            "600\n"
          ]
        }
      ]
    },
    {
      "cell_type": "code",
      "source": [
        "a = 30\n",
        "a %= 20\n",
        "print(a)"
      ],
      "metadata": {
        "colab": {
          "base_uri": "https://localhost:8080/"
        },
        "id": "khz1o7mAH0B9",
        "outputId": "11e83b36-7e95-4a14-a017-d7b2ab0f7bf7"
      },
      "execution_count": 21,
      "outputs": [
        {
          "output_type": "stream",
          "name": "stdout",
          "text": [
            "10\n"
          ]
        }
      ]
    },
    {
      "cell_type": "code",
      "source": [
        "a = 30\n",
        "a **= 20\n",
        "print(a)\n"
      ],
      "metadata": {
        "colab": {
          "base_uri": "https://localhost:8080/"
        },
        "id": "nErVVVirH5Ot",
        "outputId": "cd972c89-3259-4262-8cbd-9f8589a56c53"
      },
      "execution_count": 22,
      "outputs": [
        {
          "output_type": "stream",
          "name": "stdout",
          "text": [
            "348678440100000000000000000000\n"
          ]
        }
      ]
    },
    {
      "cell_type": "code",
      "source": [
        "a = 30\n",
        "a /= 20\n",
        "print(a)"
      ],
      "metadata": {
        "colab": {
          "base_uri": "https://localhost:8080/"
        },
        "id": "YRYvEQP7H6zH",
        "outputId": "f847d5cd-8eab-45ba-c7be-35aec89931f1"
      },
      "execution_count": 23,
      "outputs": [
        {
          "output_type": "stream",
          "name": "stdout",
          "text": [
            "1.5\n"
          ]
        }
      ]
    },
    {
      "cell_type": "markdown",
      "source": [
        "#Membership operators;\n"
      ],
      "metadata": {
        "id": "HIxXoO43IBXN"
      }
    },
    {
      "cell_type": "code",
      "source": [
        "xy = [\"shakir\",222,\"ali\",\"musa\",3333,\"shakoor\"]\n",
        "sam = ( 222 in xy)\n",
        "print(sam)\n",
        "\n",
        "xy = [\"shakir\",2222,\"ali\",\"musa\",3333,\"shakoor\"]\n",
        "sam = (22 not in xy)\n",
        "print(sam)"
      ],
      "metadata": {
        "colab": {
          "base_uri": "https://localhost:8080/"
        },
        "id": "_TTtWTprIEPF",
        "outputId": "3e754a1d-2266-4854-a676-4bfec82985d7"
      },
      "execution_count": 24,
      "outputs": [
        {
          "output_type": "stream",
          "name": "stdout",
          "text": [
            "True\n",
            "True\n"
          ]
        }
      ]
    },
    {
      "cell_type": "markdown",
      "source": [
        "Logical Operators (not,and,or)\n",
        "\n",
        " not operator :\n",
        "\n",
        "\"not\" operator returns the opposite value of the given value.\n",
        "\n",
        "It works based on single value.\n"
      ],
      "metadata": {
        "id": "VhpshjNgIIMp"
      }
    },
    {
      "cell_type": "code",
      "source": [
        "k = not True\n",
        "l = not False\n",
        "print(k)\n",
        "print(l)\n"
      ],
      "metadata": {
        "colab": {
          "base_uri": "https://localhost:8080/"
        },
        "id": "qKwfJ2_UIUCD",
        "outputId": "975ac555-4423-44a9-9938-4e137880ab61"
      },
      "execution_count": 25,
      "outputs": [
        {
          "output_type": "stream",
          "name": "stdout",
          "text": [
            "False\n",
            "True\n"
          ]
        }
      ]
    },
    {
      "cell_type": "markdown",
      "source": [
        "# Similarly:"
      ],
      "metadata": {
        "id": "iL52VfbOIXsE"
      }
    },
    {
      "cell_type": "code",
      "source": [
        "ab = 88\n",
        "ac = 33\n",
        "bc = (not (ab>ac))\n",
        "print(bc)\n",
        "print(type(bc))"
      ],
      "metadata": {
        "colab": {
          "base_uri": "https://localhost:8080/"
        },
        "id": "U4sTf4JaIdfo",
        "outputId": "70fdc3aa-3855-49e8-acb7-5a9385514fd4"
      },
      "execution_count": 26,
      "outputs": [
        {
          "output_type": "stream",
          "name": "stdout",
          "text": [
            "False\n",
            "<class 'bool'>\n"
          ]
        }
      ]
    },
    {
      "cell_type": "markdown",
      "source": [
        "And operator :\n",
        "\n",
        "It works based on two values.\n",
        "\n",
        "Type Conversion :\n",
        "\n",
        "When a one data type is coverted into another data type , this is known as Type Conversion.\n",
        "\n",
        "Two types of conversion:\n"
      ],
      "metadata": {
        "id": "SNjc-YU5Ih7x"
      }
    },
    {
      "cell_type": "markdown",
      "source": [
        "#1 : Type Conversion;\n"
      ],
      "metadata": {
        "id": "khV1QxysInZj"
      }
    },
    {
      "cell_type": "code",
      "source": [
        "g = 9\n",
        "h = 6.3\n",
        "sum = (g + h)\n",
        "print(sum)     # here python automatically convert the integer value into float value.\n",
        "print(type(sum))\n",
        "# Note: it is not possible for python to convert the string into into float, so for this we use type Casting.\n"
      ],
      "metadata": {
        "colab": {
          "base_uri": "https://localhost:8080/"
        },
        "id": "S6uSRC53IrL8",
        "outputId": "ea9aac68-ec91-49f5-da00-ceb955a7418e"
      },
      "execution_count": 27,
      "outputs": [
        {
          "output_type": "stream",
          "name": "stdout",
          "text": [
            "15.3\n",
            "<class 'float'>\n"
          ]
        }
      ]
    },
    {
      "cell_type": "markdown",
      "source": [],
      "metadata": {
        "id": "69rroMFeI2bj"
      }
    },
    {
      "cell_type": "markdown",
      "source": [
        "#2 : Type Casting:\n"
      ],
      "metadata": {
        "id": "8dTWFYm7I6Yt"
      }
    },
    {
      "cell_type": "code",
      "source": [
        "z = int(\"3\")\n",
        "p = 6.3\n",
        "sum = (z + p)\n",
        "print(sum)"
      ],
      "metadata": {
        "colab": {
          "base_uri": "https://localhost:8080/"
        },
        "id": "YtK0-gRJI-Vr",
        "outputId": "86ba4b94-5bbd-4a87-ff74-09682e386a4b"
      },
      "execution_count": 28,
      "outputs": [
        {
          "output_type": "stream",
          "name": "stdout",
          "text": [
            "9.3\n"
          ]
        }
      ]
    },
    {
      "cell_type": "markdown",
      "source": [
        " An examples of type casting."
      ],
      "metadata": {
        "id": "Ly6hNTfDJB6K"
      }
    },
    {
      "cell_type": "code",
      "source": [
        "ali = 99\n",
        "ali = str(ali)\n",
        "print(type(ali))"
      ],
      "metadata": {
        "id": "QE9OzKcxJFf7",
        "outputId": "02b47c27-772b-4b8c-a055-4d9f2b7cc85d",
        "colab": {
          "base_uri": "https://localhost:8080/"
        }
      },
      "execution_count": 29,
      "outputs": [
        {
          "output_type": "stream",
          "name": "stdout",
          "text": [
            "<class 'str'>\n"
          ]
        }
      ]
    }
  ]
}