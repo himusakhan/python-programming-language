{
  "nbformat": 4,
  "nbformat_minor": 0,
  "metadata": {
    "colab": {
      "provenance": []
    },
    "kernelspec": {
      "name": "python3",
      "display_name": "Python 3"
    },
    "language_info": {
      "name": "python"
    }
  },
  "cells": [
    {
      "cell_type": "code",
      "execution_count": null,
      "metadata": {
        "id": "jA4z2AXPP3Wc"
      },
      "outputs": [],
      "source": []
    },
    {
      "cell_type": "markdown",
      "source": [
        "#         **Fundamentals of python**"
      ],
      "metadata": {
        "id": "xrMZEk9jP8BF"
      }
    },
    {
      "cell_type": "code",
      "source": [
        "print(\"Hello world\")"
      ],
      "metadata": {
        "colab": {
          "base_uri": "https://localhost:8080/"
        },
        "id": "iaueJN5qQOk2",
        "outputId": "e825238b-080a-4f1e-db39-406ccb227d7a"
      },
      "execution_count": 1,
      "outputs": [
        {
          "output_type": "stream",
          "name": "stdout",
          "text": [
            "Hello world\n"
          ]
        }
      ]
    },
    {
      "cell_type": "code",
      "source": [
        "print(\"Hisham is my name.\")\n",
        "print(\"My age is 13.\")"
      ],
      "metadata": {
        "colab": {
          "base_uri": "https://localhost:8080/"
        },
        "id": "fFwUr2bfQQqJ",
        "outputId": "6bbf072c-980c-4734-81c9-688bea7bfefe"
      },
      "execution_count": 46,
      "outputs": [
        {
          "output_type": "stream",
          "name": "stdout",
          "text": [
            "Hisham is my name.\n",
            "My age is 13.\n"
          ]
        }
      ]
    },
    {
      "cell_type": "code",
      "source": [
        "print(\"Hisham name.\",\"My age is 13.\")"
      ],
      "metadata": {
        "colab": {
          "base_uri": "https://localhost:8080/"
        },
        "id": "5_yfydY2QSYK",
        "outputId": "aae2cec9-4b6e-42f5-86f0-e9893e1c0e7c"
      },
      "execution_count": 2,
      "outputs": [
        {
          "output_type": "stream",
          "name": "stdout",
          "text": [
            "Hisham name. My age is 13.\n"
          ]
        }
      ]
    },
    {
      "cell_type": "code",
      "source": [
        "print(25)\n",
        "print(45)"
      ],
      "metadata": {
        "colab": {
          "base_uri": "https://localhost:8080/"
        },
        "id": "xw4bJtpxQXYc",
        "outputId": "8d60c061-6ec9-4070-edda-b5387afd38de"
      },
      "execution_count": 45,
      "outputs": [
        {
          "output_type": "stream",
          "name": "stdout",
          "text": [
            "25\n",
            "45\n"
          ]
        }
      ]
    },
    {
      "cell_type": "code",
      "source": [
        "print(12)\n",
        "print(22+22)"
      ],
      "metadata": {
        "colab": {
          "base_uri": "https://localhost:8080/"
        },
        "id": "qWmBAqglQZn8",
        "outputId": "584247f6-00db-442d-9eaa-0f19eec49a3b"
      },
      "execution_count": 44,
      "outputs": [
        {
          "output_type": "stream",
          "name": "stdout",
          "text": [
            "12\n",
            "44\n"
          ]
        }
      ]
    },
    {
      "cell_type": "code",
      "source": [
        "print(32)\n",
        "print(43-42)"
      ],
      "metadata": {
        "colab": {
          "base_uri": "https://localhost:8080/"
        },
        "id": "iCumxdhfQbUY",
        "outputId": "e3fa48a4-e7bc-4ef1-dad4-d2867c6fb2f4"
      },
      "execution_count": 43,
      "outputs": [
        {
          "output_type": "stream",
          "name": "stdout",
          "text": [
            "32\n",
            "1\n"
          ]
        }
      ]
    },
    {
      "cell_type": "code",
      "source": [
        "print(64)\n",
        "print(23/87)"
      ],
      "metadata": {
        "colab": {
          "base_uri": "https://localhost:8080/"
        },
        "id": "J9jydyDOQc7i",
        "outputId": "8497581b-f1e5-491d-f9f3-caa68ae2c123"
      },
      "execution_count": 42,
      "outputs": [
        {
          "output_type": "stream",
          "name": "stdout",
          "text": [
            "64\n",
            "0.26436781609195403\n"
          ]
        }
      ]
    },
    {
      "cell_type": "code",
      "source": [
        "print(32)\n",
        "print(34*86)"
      ],
      "metadata": {
        "colab": {
          "base_uri": "https://localhost:8080/"
        },
        "id": "GNP7N3-3Qeej",
        "outputId": "21fcd623-e454-48bd-ff6e-53b230b8c937"
      },
      "execution_count": 41,
      "outputs": [
        {
          "output_type": "stream",
          "name": "stdout",
          "text": [
            "32\n",
            "2924\n"
          ]
        }
      ]
    },
    {
      "cell_type": "markdown",
      "source": [
        "#Variables:\n",
        "\n",
        "A variable is a name given to a memory location in a program.\n",
        "\n",
        "name = \"Musa khan\"\n",
        "\n",
        "age = 17\n",
        "\n",
        "price = 1.123"
      ],
      "metadata": {
        "id": "y6NKcqS2QhVV"
      }
    },
    {
      "cell_type": "code",
      "source": [
        "name = \"musa khan\"\n",
        "age = 17\n",
        "price = 1.123\n",
        "\n",
        "print(name)"
      ],
      "metadata": {
        "colab": {
          "base_uri": "https://localhost:8080/"
        },
        "id": "WPqBrLXYQtPa",
        "outputId": "8384d93d-51db-4964-d0a0-3f404bc66f4f"
      },
      "execution_count": 39,
      "outputs": [
        {
          "output_type": "stream",
          "name": "stdout",
          "text": [
            "musa khan\n"
          ]
        }
      ]
    },
    {
      "cell_type": "code",
      "source": [
        "name = \"musa khan\"\n",
        "age = 17\n",
        "price = 1.123\n",
        "\n",
        "print(age)"
      ],
      "metadata": {
        "colab": {
          "base_uri": "https://localhost:8080/"
        },
        "id": "kUM0d2qMQvCY",
        "outputId": "81988ce1-bc23-4ba2-89c1-fa81eb1e79cf"
      },
      "execution_count": 40,
      "outputs": [
        {
          "output_type": "stream",
          "name": "stdout",
          "text": [
            "17\n"
          ]
        }
      ]
    },
    {
      "cell_type": "code",
      "source": [
        "name = \"musa khan\"\n",
        "age = 17\n",
        "price = 1.123\n",
        "\n",
        "print(price)"
      ],
      "metadata": {
        "colab": {
          "base_uri": "https://localhost:8080/"
        },
        "id": "jGM55McgQxf8",
        "outputId": "113e236f-fdcb-445c-bf34-df5580751927"
      },
      "execution_count": 38,
      "outputs": [
        {
          "output_type": "stream",
          "name": "stdout",
          "text": [
            "1.123\n"
          ]
        }
      ]
    },
    {
      "cell_type": "code",
      "source": [
        "name = \"musa khan\"\n",
        "age = 17\n",
        "price = 1.123\n",
        "\n",
        "print(\"my name is :\",name)\n",
        "print(\"my age is:\",age)\n",
        "print(\"my price is:\",price)"
      ],
      "metadata": {
        "colab": {
          "base_uri": "https://localhost:8080/"
        },
        "id": "Wymq0iL8Qznn",
        "outputId": "e68498db-16a4-4c41-8844-399bd88ef26b"
      },
      "execution_count": 37,
      "outputs": [
        {
          "output_type": "stream",
          "name": "stdout",
          "text": [
            "my name is : musa khan\n",
            "my age is: 17\n",
            "my price is: 1.123\n"
          ]
        }
      ]
    },
    {
      "cell_type": "code",
      "source": [
        "name = \"musa khan\"\n",
        "age = 17\n",
        "price = 1.123\n",
        "age2 = age\n",
        "\n",
        "print(age2)"
      ],
      "metadata": {
        "colab": {
          "base_uri": "https://localhost:8080/"
        },
        "id": "SCuJm3WUQ17c",
        "outputId": "dcc72c59-ea5a-44e5-851b-8b93d5681fe6"
      },
      "execution_count": 36,
      "outputs": [
        {
          "output_type": "stream",
          "name": "stdout",
          "text": [
            "17\n"
          ]
        }
      ]
    },
    {
      "cell_type": "markdown",
      "source": [
        "#Rules for Identifiers:\n"
      ],
      "metadata": {
        "id": "25QFrwgOQ3la"
      }
    },
    {
      "cell_type": "markdown",
      "source": [
        "Identifiers can be combination of uppercase and lowercase letters, digits or an underscre(-).\n",
        " So my Variable,variable_1,variable_for_print all are valid python identifiers.\n",
        "\n",
        " An identifier can not start with digit. So while variable1 is vallid,\n",
        " 1variable is not vallid.\n",
        "\n",
        " We can't use special symbles like !,#,@,$,% etc in our identifier.\n",
        "\n",
        " Identifier can be of any length.\n"
      ],
      "metadata": {
        "id": "kOIUNrP-Q5bQ"
      }
    },
    {
      "cell_type": "code",
      "source": [
        "name = \"musa khan\"\n",
        "age = 17\n",
        "price = 1.123\n",
        "\n",
        "print(type(name))\n",
        "print(type(age))\n",
        "print(type(price))\n"
      ],
      "metadata": {
        "colab": {
          "base_uri": "https://localhost:8080/"
        },
        "id": "aapFRzdrREp3",
        "outputId": "8a02b940-5e03-44c4-ad6c-4675fbec0565"
      },
      "execution_count": 35,
      "outputs": [
        {
          "output_type": "stream",
          "name": "stdout",
          "text": [
            "<class 'str'>\n",
            "<class 'int'>\n",
            "<class 'float'>\n"
          ]
        }
      ]
    },
    {
      "cell_type": "markdown",
      "source": [
        "# Data Type\n",
        "\n",
        " Integers    #  +ve,-ve,0\n",
        "\n",
        " String      #  \"santence\" or \"name\"\n",
        "\n",
        " Float       #  decimal no or 13.43 , 1.3\n",
        "\n",
        " boolean     #  True or False\n",
        "\n",
        " None        #  a = None\n"
      ],
      "metadata": {
        "id": "odIcK5dcRHA6"
      }
    },
    {
      "cell_type": "markdown",
      "source": [
        "# String:"
      ],
      "metadata": {
        "id": "NxRB2u1CRQza"
      }
    },
    {
      "cell_type": "code",
      "source": [
        "name1 = 'Hello'\n",
        "name2 = \"Hello\"\n",
        "name3 = '''Hello'''\n",
        "\n",
        "print(name1)\n",
        "print(name2)\n",
        "print(name3)"
      ],
      "metadata": {
        "colab": {
          "base_uri": "https://localhost:8080/"
        },
        "id": "IERUj01vRSbo",
        "outputId": "17b2e8ee-e5c9-41e1-fc24-92ce5ae3d4d1"
      },
      "execution_count": 34,
      "outputs": [
        {
          "output_type": "stream",
          "name": "stdout",
          "text": [
            "Hello\n",
            "Hello\n",
            "Hello\n"
          ]
        }
      ]
    },
    {
      "cell_type": "code",
      "source": [
        "name1 = 'Hello',\"Hello\",'''Hello'''\n",
        "\n",
        "print(name1)"
      ],
      "metadata": {
        "colab": {
          "base_uri": "https://localhost:8080/"
        },
        "id": "02n4sba3RUzk",
        "outputId": "972cc609-6f25-401c-d975-c84bb61f6a32"
      },
      "execution_count": 33,
      "outputs": [
        {
          "output_type": "stream",
          "name": "stdout",
          "text": [
            "('Hello', 'Hello', 'Hello')\n"
          ]
        }
      ]
    },
    {
      "cell_type": "markdown",
      "source": [
        "# Booleane:\n",
        ""
      ],
      "metadata": {
        "id": "Aa1PbjAfRWl0"
      }
    },
    {
      "cell_type": "code",
      "source": [
        "num = 22\n",
        "print(bool(num))\n",
        "\n",
        "num = 0\n",
        "print(bool(num))\n"
      ],
      "metadata": {
        "id": "2j7Em_awRY5G"
      },
      "execution_count": null,
      "outputs": []
    },
    {
      "cell_type": "markdown",
      "source": [
        "# None:"
      ],
      "metadata": {
        "id": "isuo5h4HRbM6"
      }
    },
    {
      "cell_type": "code",
      "source": [
        "age = 23\n",
        "old = False\n",
        "a = None\n",
        "\n",
        "print(type(old))\n",
        "print(type(a))\n"
      ],
      "metadata": {
        "colab": {
          "base_uri": "https://localhost:8080/"
        },
        "id": "e-qPfxVpRc9V",
        "outputId": "311b1d8c-4548-4934-85a6-1e1ff08d940b"
      },
      "execution_count": 32,
      "outputs": [
        {
          "output_type": "stream",
          "name": "stdout",
          "text": [
            "<class 'bool'>\n",
            "<class 'NoneType'>\n"
          ]
        }
      ]
    },
    {
      "cell_type": "code",
      "source": [
        "age = 23\n",
        "old = True\n",
        "a = None\n",
        "\n",
        "print(type(old))\n",
        "print(type(a))"
      ],
      "metadata": {
        "colab": {
          "base_uri": "https://localhost:8080/"
        },
        "id": "qqiZxIzfReeI",
        "outputId": "b102c303-6f14-408a-9957-b1f1c1757567"
      },
      "execution_count": 31,
      "outputs": [
        {
          "output_type": "stream",
          "name": "stdout",
          "text": [
            "<class 'bool'>\n",
            "<class 'NoneType'>\n"
          ]
        }
      ]
    },
    {
      "cell_type": "markdown",
      "source": [
        "# Print sum:"
      ],
      "metadata": {
        "id": "OsD02LYWRgLU"
      }
    },
    {
      "cell_type": "code",
      "source": [
        "s = 23\n",
        "f = 34\n",
        "sum = s+f\n",
        "print(sum)"
      ],
      "metadata": {
        "colab": {
          "base_uri": "https://localhost:8080/"
        },
        "id": "SHwktMoWRiM5",
        "outputId": "231da6f9-0070-4e24-cc0f-3c1139af97dc"
      },
      "execution_count": 30,
      "outputs": [
        {
          "output_type": "stream",
          "name": "stdout",
          "text": [
            "57\n"
          ]
        }
      ]
    },
    {
      "cell_type": "markdown",
      "source": [
        "#Print diff:"
      ],
      "metadata": {
        "id": "rSGqM46tRjyM"
      }
    },
    {
      "cell_type": "code",
      "source": [
        "s = 23\n",
        "f = 34\n",
        "diff = s-f\n",
        "print(diff)\n"
      ],
      "metadata": {
        "colab": {
          "base_uri": "https://localhost:8080/"
        },
        "id": "U72wxIJ1RlwC",
        "outputId": "7c4af5a0-11be-42dc-90e5-b236dc1a7413"
      },
      "execution_count": 29,
      "outputs": [
        {
          "output_type": "stream",
          "name": "stdout",
          "text": [
            "-11\n"
          ]
        }
      ]
    },
    {
      "cell_type": "markdown",
      "source": [
        "#Comments in python"
      ],
      "metadata": {
        "id": "mvncBFQFRn-W"
      }
    },
    {
      "cell_type": "markdown",
      "source": [
        "Single line comments\n",
        "\n",
        "\"\"\"Multi Line comments \"\"\"\n"
      ],
      "metadata": {
        "id": "rKLQ_XAaRqWS"
      }
    },
    {
      "cell_type": "code",
      "source": [
        "print(\"hello world\")\n",
        "#print(\"hello world\")\n",
        "\"\"\"print(\"hello world\")\"\"\"\n"
      ],
      "metadata": {
        "colab": {
          "base_uri": "https://localhost:8080/",
          "height": 53
        },
        "id": "y_C5ojjARwkS",
        "outputId": "8e9866d8-3972-4518-8397-4b19a7856fc7"
      },
      "execution_count": 28,
      "outputs": [
        {
          "output_type": "stream",
          "name": "stdout",
          "text": [
            "hello world\n"
          ]
        },
        {
          "output_type": "execute_result",
          "data": {
            "text/plain": [
              "'print(\"hello world\")'"
            ],
            "application/vnd.google.colaboratory.intrinsic+json": {
              "type": "string"
            }
          },
          "metadata": {},
          "execution_count": 28
        }
      ]
    },
    {
      "cell_type": "markdown",
      "source": [
        "#Types of Operators\n",
        "\n",
        ". An operators is a symbol that performs a certain operation between operands.\n",
        "\n",
        ". Arthmetic Operators(+,-,*,/,%,**)\n",
        "\n",
        ". Relationl / Comparion Operators(==,!=,>,<,>=,>=)\n",
        "\n",
        ". Assignment Operators(=,+=,-=,/=,%=,**=)\n",
        "\n",
        ". Logical Operators (not,and,or)\n"
      ],
      "metadata": {
        "id": "g1LSvO5ARyLS"
      }
    },
    {
      "cell_type": "markdown",
      "source": [
        "#Arithmetic operaters"
      ],
      "metadata": {
        "id": "pF8kwM9DR6el"
      }
    },
    {
      "cell_type": "code",
      "source": [
        "a = 32\n",
        "b = 42\n",
        "\n",
        "sum = a + b\n",
        "print(sum)"
      ],
      "metadata": {
        "colab": {
          "base_uri": "https://localhost:8080/"
        },
        "id": "bGXYYz8PR9mk",
        "outputId": "815cc3a2-94ca-434f-c5ef-5552ebeb006a"
      },
      "execution_count": 27,
      "outputs": [
        {
          "output_type": "stream",
          "name": "stdout",
          "text": [
            "74\n"
          ]
        }
      ]
    },
    {
      "cell_type": "code",
      "source": [
        "a = 32\n",
        "b = 42\n",
        "\n",
        "print(a + b)\n",
        "print(a - b)\n",
        "print(a * b)\n",
        "print(a / b)\n",
        "print(a % b)"
      ],
      "metadata": {
        "colab": {
          "base_uri": "https://localhost:8080/"
        },
        "id": "uelQOFtAR_NR",
        "outputId": "3ff07d4d-5a08-4200-decd-0946ad94adf5"
      },
      "execution_count": 26,
      "outputs": [
        {
          "output_type": "stream",
          "name": "stdout",
          "text": [
            "74\n",
            "-10\n",
            "1344\n",
            "0.7619047619047619\n",
            "32\n"
          ]
        }
      ]
    },
    {
      "cell_type": "markdown",
      "source": [
        "#Relational Operators"
      ],
      "metadata": {
        "id": "-12Vy_eLSAuM"
      }
    },
    {
      "cell_type": "code",
      "source": [
        "a = 34\n",
        "b = 20\n",
        "\n",
        "print(a == b)\n",
        "print(a != b)\n",
        "print(a >= b )\n",
        "print(a > b)\n",
        "print(a <= b)\n",
        "print(a < b)"
      ],
      "metadata": {
        "colab": {
          "base_uri": "https://localhost:8080/"
        },
        "id": "BdVkz4nnSC3_",
        "outputId": "d8bb260e-39c1-4c16-a223-8194db6d9f5d"
      },
      "execution_count": 25,
      "outputs": [
        {
          "output_type": "stream",
          "name": "stdout",
          "text": [
            "False\n",
            "True\n",
            "True\n",
            "True\n",
            "False\n",
            "False\n"
          ]
        }
      ]
    },
    {
      "cell_type": "markdown",
      "source": [
        "#Assignment Operatores"
      ],
      "metadata": {
        "id": "Tqfxjh89SFi2"
      }
    },
    {
      "cell_type": "code",
      "source": [
        "num = 12\n",
        "num +=12\n",
        "\n",
        "print(\"num :\", num)\n"
      ],
      "metadata": {
        "colab": {
          "base_uri": "https://localhost:8080/"
        },
        "id": "4TE9mNDtSHI-",
        "outputId": "3b8b4a14-9b38-4431-9f4b-30ddb6869359"
      },
      "execution_count": 24,
      "outputs": [
        {
          "output_type": "stream",
          "name": "stdout",
          "text": [
            "num : 24\n"
          ]
        }
      ]
    },
    {
      "cell_type": "code",
      "source": [
        "num = 12\n",
        "num +=12\n",
        "\n",
        "print(\"num :\", num)\n"
      ],
      "metadata": {
        "colab": {
          "base_uri": "https://localhost:8080/"
        },
        "id": "E_zYTiurSIoC",
        "outputId": "34a18051-8c3e-4b23-bf68-44b49bb369a5"
      },
      "execution_count": 23,
      "outputs": [
        {
          "output_type": "stream",
          "name": "stdout",
          "text": [
            "num : 24\n"
          ]
        }
      ]
    },
    {
      "cell_type": "code",
      "source": [
        "num = 12\n",
        "num -=12\n",
        "\n",
        "print(\"num :\", num)"
      ],
      "metadata": {
        "colab": {
          "base_uri": "https://localhost:8080/"
        },
        "id": "rdlt8BDTSKsV",
        "outputId": "3ed00ab1-a585-41b5-fa7d-7844dc21e4c9"
      },
      "execution_count": 22,
      "outputs": [
        {
          "output_type": "stream",
          "name": "stdout",
          "text": [
            "num : 0\n"
          ]
        }
      ]
    },
    {
      "cell_type": "code",
      "source": [
        "num = 12\n",
        "num *=12\n",
        "\n",
        "print(\"num :\", num)\n"
      ],
      "metadata": {
        "colab": {
          "base_uri": "https://localhost:8080/"
        },
        "id": "zaJRVEBESQSn",
        "outputId": "c6da401f-345f-4a36-e15b-ac480b67a6d8"
      },
      "execution_count": 21,
      "outputs": [
        {
          "output_type": "stream",
          "name": "stdout",
          "text": [
            "num : 144\n"
          ]
        }
      ]
    },
    {
      "cell_type": "code",
      "source": [
        "num = 12\n",
        "num /=12\n",
        "\n",
        "print(\"num :\", num)"
      ],
      "metadata": {
        "colab": {
          "base_uri": "https://localhost:8080/"
        },
        "id": "DQAKfwjuSR3t",
        "outputId": "bd083994-9ea2-45c7-963a-8d6a1a7da457"
      },
      "execution_count": 20,
      "outputs": [
        {
          "output_type": "stream",
          "name": "stdout",
          "text": [
            "num : 1.0\n"
          ]
        }
      ]
    },
    {
      "cell_type": "code",
      "source": [
        "num = 12\n",
        "num %=12\n",
        "\n",
        "print(\"num :\", num)\n"
      ],
      "metadata": {
        "colab": {
          "base_uri": "https://localhost:8080/"
        },
        "id": "9aHBvpqPSTgF",
        "outputId": "26fb9aa1-3181-48b2-ea10-517f2b8c5be9"
      },
      "execution_count": 19,
      "outputs": [
        {
          "output_type": "stream",
          "name": "stdout",
          "text": [
            "num : 0\n"
          ]
        }
      ]
    },
    {
      "cell_type": "markdown",
      "source": [
        "#Logical Operators"
      ],
      "metadata": {
        "id": "ZkzZ-bW9SVIO"
      }
    },
    {
      "cell_type": "code",
      "source": [
        "a = 52\n",
        "b = 12\n",
        "\n",
        "print(not False)\n",
        "print(not(a > b))"
      ],
      "metadata": {
        "colab": {
          "base_uri": "https://localhost:8080/"
        },
        "id": "QDO2YCd6SXIR",
        "outputId": "b0b97c1b-99a9-48d4-dba9-e82830263050"
      },
      "execution_count": 18,
      "outputs": [
        {
          "output_type": "stream",
          "name": "stdout",
          "text": [
            "True\n",
            "False\n"
          ]
        }
      ]
    },
    {
      "cell_type": "code",
      "source": [
        "val1 = False\n",
        "val2 = False\n",
        "\n",
        "print(\"AND operator\", val1 and val2)\n",
        "print(\"OR operator\", val1 or val2)\n",
        "print(\"OR operator\", (a == b) or (a > b))"
      ],
      "metadata": {
        "colab": {
          "base_uri": "https://localhost:8080/"
        },
        "id": "86o4lcMwSZE2",
        "outputId": "ef43919d-736c-4d86-d926-c5e80799f44e"
      },
      "execution_count": 17,
      "outputs": [
        {
          "output_type": "stream",
          "name": "stdout",
          "text": [
            "AND operator False\n",
            "OR operator False\n",
            "OR operator False\n"
          ]
        }
      ]
    },
    {
      "cell_type": "markdown",
      "source": [
        "#Type conversion\n",
        "\n",
        "a,b = 1,2.0\n",
        "\n",
        "sum = a+b\n",
        "\n",
        "error\n",
        "\n",
        "a,b = 1,\"2\"\n",
        "\n",
        "sum = a+b"
      ],
      "metadata": {
        "id": "goZLDF07SfA8"
      }
    },
    {
      "cell_type": "code",
      "source": [
        "a = 23.00\n",
        "b = 34.57\n",
        "\n",
        "sum = a + b\n",
        "print(sum)"
      ],
      "metadata": {
        "colab": {
          "base_uri": "https://localhost:8080/"
        },
        "id": "521kLF9gSnJf",
        "outputId": "469ee8be-6ccb-40d3-d452-56bb4023a8f9"
      },
      "execution_count": 16,
      "outputs": [
        {
          "output_type": "stream",
          "name": "stdout",
          "text": [
            "57.57\n"
          ]
        }
      ]
    },
    {
      "cell_type": "code",
      "source": [
        "a = \"23\"\n",
        "b = 34.57\n",
        "\n",
        "print(type(a))\n"
      ],
      "metadata": {
        "colab": {
          "base_uri": "https://localhost:8080/"
        },
        "id": "yozm1RWBSo0v",
        "outputId": "cb8f5284-0ebc-43fe-a1d0-74235e7e1bbe"
      },
      "execution_count": 15,
      "outputs": [
        {
          "output_type": "stream",
          "name": "stdout",
          "text": [
            "<class 'str'>\n"
          ]
        }
      ]
    },
    {
      "cell_type": "markdown",
      "source": [
        "#Type casting"
      ],
      "metadata": {
        "id": "FVv5L9qSSqLr"
      }
    },
    {
      "cell_type": "code",
      "source": [
        "a = int(\"8\")\n",
        "b = 23.42\n",
        "\n",
        "print(type(a))\n",
        "print(a + b)\n"
      ],
      "metadata": {
        "colab": {
          "base_uri": "https://localhost:8080/"
        },
        "id": "kicG3BujSr0r",
        "outputId": "6438682f-e410-48ef-f014-0214ac066c70"
      },
      "execution_count": 14,
      "outputs": [
        {
          "output_type": "stream",
          "name": "stdout",
          "text": [
            "<class 'int'>\n",
            "31.42\n"
          ]
        }
      ]
    },
    {
      "cell_type": "code",
      "source": [
        "a = float(\"82\")\n",
        "b = 32.08\n",
        "\n",
        "print(type(a))\n",
        "print(a - b)\n"
      ],
      "metadata": {
        "colab": {
          "base_uri": "https://localhost:8080/"
        },
        "id": "DyDNKd0YStdD",
        "outputId": "1e8c5488-6e31-426a-d734-5c73786df17f"
      },
      "execution_count": 12,
      "outputs": [
        {
          "output_type": "stream",
          "name": "stdout",
          "text": [
            "<class 'float'>\n",
            "49.92\n"
          ]
        }
      ]
    },
    {
      "cell_type": "code",
      "source": [
        "a = 23.87\n",
        "b = str(43)\n",
        "\n",
        "print(type(a))\n"
      ],
      "metadata": {
        "colab": {
          "base_uri": "https://localhost:8080/"
        },
        "id": "IqbB7Lp1Su4J",
        "outputId": "53686cbe-c858-4527-e481-02ba8351c7c0"
      },
      "execution_count": 13,
      "outputs": [
        {
          "output_type": "stream",
          "name": "stdout",
          "text": [
            "<class 'float'>\n"
          ]
        }
      ]
    },
    {
      "cell_type": "markdown",
      "source": [
        "#Input in python\n",
        "  input() statement is used to accept values (using keyboard) from user\n",
        "\n",
        "input() #result for input() is always a str\n",
        "\n",
        "int(input()) #int\n",
        "\n",
        "float (input()) #float"
      ],
      "metadata": {
        "id": "nLNihnfIS4BR"
      }
    },
    {
      "cell_type": "code",
      "source": [
        "input(\"enter your name:\")\n",
        "\n",
        "#name = input(\"enter your age:\")\n",
        "#print(\"you entered\",name)\n"
      ],
      "metadata": {
        "colab": {
          "base_uri": "https://localhost:8080/",
          "height": 53
        },
        "id": "FvCHgUWMTJhq",
        "outputId": "fddfd332-bffa-4e30-8f83-4171a80e9c6a"
      },
      "execution_count": 5,
      "outputs": [
        {
          "name": "stdout",
          "output_type": "stream",
          "text": [
            "enter your name:musa khan\n"
          ]
        },
        {
          "output_type": "execute_result",
          "data": {
            "text/plain": [
              "'musa khan'"
            ],
            "application/vnd.google.colaboratory.intrinsic+json": {
              "type": "string"
            }
          },
          "metadata": {},
          "execution_count": 5
        }
      ]
    },
    {
      "cell_type": "code",
      "source": [
        "val = input(\"enter some value: \")\n",
        "#print(type(val),val) # \"24\" , \"34.34\"\n"
      ],
      "metadata": {
        "colab": {
          "base_uri": "https://localhost:8080/"
        },
        "id": "3psWcQbNTPKn",
        "outputId": "87960e29-2da6-430e-ab81-d6ffdb1d3352"
      },
      "execution_count": 7,
      "outputs": [
        {
          "name": "stdout",
          "output_type": "stream",
          "text": [
            "enter some value: 34\n"
          ]
        }
      ]
    },
    {
      "cell_type": "code",
      "source": [
        "int(\"5\")\n",
        "#val = float(input(\"enter some value: \"))\n",
        "#print(type(val), val)\n"
      ],
      "metadata": {
        "colab": {
          "base_uri": "https://localhost:8080/"
        },
        "id": "HmSofqDiTRe_",
        "outputId": "4788c3f9-ad51-47b3-ea38-ec6b7124792b"
      },
      "execution_count": 9,
      "outputs": [
        {
          "output_type": "execute_result",
          "data": {
            "text/plain": [
              "5"
            ]
          },
          "metadata": {},
          "execution_count": 9
        }
      ]
    },
    {
      "cell_type": "code",
      "source": [
        "name = input(\"enter name: \")\n",
        "#age = input(\"enter age: \")\n",
        "#marks = input(\"anter marks: \")\n",
        "\n",
        "#print(\"welcom\", name)\n",
        "#print(\"age =\", age)\n",
        "#print(\"marks =\", marks)\n"
      ],
      "metadata": {
        "colab": {
          "base_uri": "https://localhost:8080/"
        },
        "id": "mDh5rYQGTcpj",
        "outputId": "3839bec2-0908-4a48-9f93-22c97e7f7cee"
      },
      "execution_count": 11,
      "outputs": [
        {
          "name": "stdout",
          "output_type": "stream",
          "text": [
            "enter name: musa khan\n"
          ]
        }
      ]
    },
    {
      "cell_type": "markdown",
      "source": [
        "#Let's Practice"
      ],
      "metadata": {
        "id": "5V5HC4PBTj_s"
      }
    }
  ]
}