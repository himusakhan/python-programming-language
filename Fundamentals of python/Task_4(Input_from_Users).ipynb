{
  "nbformat": 4,
  "nbformat_minor": 0,
  "metadata": {
    "colab": {
      "provenance": []
    },
    "kernelspec": {
      "name": "python3",
      "display_name": "Python 3"
    },
    "language_info": {
      "name": "python"
    }
  },
  "cells": [
    {
      "cell_type": "markdown",
      "source": [
        "#**How to take input (data) from Users.**\n",
        "#**It's output is always in string.**\n"
      ],
      "metadata": {
        "id": "wO0K6rpwTnC1"
      }
    },
    {
      "cell_type": "code",
      "source": [
        "name = (input(\"enter your name:\"))\n",
        "print(\"welcome to your own platform!\", name)\n",
        "print(type(name))   # output is always string data type.\n",
        ""
      ],
      "metadata": {
        "colab": {
          "base_uri": "https://localhost:8080/"
        },
        "id": "wveDwbAoT7OS",
        "outputId": "63471d5e-2f15-404a-d1cc-efee3b8aa241"
      },
      "execution_count": 1,
      "outputs": [
        {
          "output_type": "stream",
          "name": "stdout",
          "text": [
            "enter your name:musa khan\n",
            "welcome to your own platform! musa khan\n",
            "<class 'str'>\n"
          ]
        }
      ]
    },
    {
      "cell_type": "markdown",
      "source": [
        "#NOTE:\n",
        "   Input data output is always in str but with type Casting we can change its data type i-e;\n"
      ],
      "metadata": {
        "id": "1cEXxaD_Ud6v"
      }
    },
    {
      "cell_type": "code",
      "source": [
        "number = int(input(\"enter your no:\"))\n",
        "print(\"welcome to your own platform!\", number)\n",
        "print(type(number))  # Now its output in the int type, which is possible through Casting.\n"
      ],
      "metadata": {
        "colab": {
          "base_uri": "https://localhost:8080/"
        },
        "id": "luievMm8UvFw",
        "outputId": "70984f83-e459-4620-be2b-1eba6d545485"
      },
      "execution_count": 2,
      "outputs": [
        {
          "output_type": "stream",
          "name": "stdout",
          "text": [
            "enter your no:804\n",
            "welcome to your own platform! 804\n",
            "<class 'int'>\n"
          ]
        }
      ]
    },
    {
      "cell_type": "code",
      "source": [],
      "metadata": {
        "id": "r7dXU1k8Yl4A"
      },
      "execution_count": null,
      "outputs": []
    },
    {
      "cell_type": "markdown",
      "source": [
        "An example of getting data from users as a input\n"
      ],
      "metadata": {
        "id": "a6VAa_bKWI1B"
      }
    },
    {
      "cell_type": "code",
      "source": [
        "student_name = input(\"Enter your good name:\")\n",
        "student_roll_no = input(\"Enter your registeration no:\")\n",
        "student_marks = input(\"Enter your marks:\")\n",
        "print(\"Welcome :\",student_name)\n",
        "print(\"Thank you for registeration: Dear;\",student_name)\n",
        "print(\"You entered:\",student_roll_no)\n",
        "print(\"Excellent marks:\",student_marks)\n",
        "print(\"Congrats on your excellent performance\")"
      ],
      "metadata": {
        "colab": {
          "base_uri": "https://localhost:8080/"
        },
        "id": "e0Hu8px_YL6w",
        "outputId": "bd50d926-0949-4c3d-bc5d-cdeade7e69e1"
      },
      "execution_count": 7,
      "outputs": [
        {
          "output_type": "stream",
          "name": "stdout",
          "text": [
            "Enter your good name:musa khan\n",
            "Enter your registeration no:9953\n",
            "Enter your marks:838\n",
            "Welcome : musa khan\n",
            "Thank you for registeration: Dear; musa khan\n",
            "You entered: 9953\n",
            "Excellent marks: 838\n",
            "Congrats on your excellent performance\n"
          ]
        }
      ]
    },
    {
      "cell_type": "markdown",
      "source": [
        "Program of input two int numbers and print if a is greater than b.\n"
      ],
      "metadata": {
        "id": "QsNKsRKaYiSo"
      }
    },
    {
      "cell_type": "code",
      "source": [
        "a = int(input(\"Enter first :\"))\n",
        "b = int(input(\"Enter Second :\"))\n",
        "c = (a >= b)\n",
        "print(c)"
      ],
      "metadata": {
        "colab": {
          "base_uri": "https://localhost:8080/"
        },
        "id": "CY1pe_ivWtYB",
        "outputId": "4f3c71fb-92b4-43fb-a969-627a27f659bb"
      },
      "execution_count": 4,
      "outputs": [
        {
          "output_type": "stream",
          "name": "stdout",
          "text": [
            "Enter first :440\n",
            "Enter Second :838\n",
            "False\n"
          ]
        }
      ]
    },
    {
      "cell_type": "markdown",
      "source": [
        "Program of input side of square and print its area.\n"
      ],
      "metadata": {
        "id": "iK_nMCfcWw_9"
      }
    },
    {
      "cell_type": "code",
      "source": [
        "a = int(input(\"enter your first no:\"))\n",
        "c = a * a\n",
        "print(\"Area = \", c)"
      ],
      "metadata": {
        "colab": {
          "base_uri": "https://localhost:8080/"
        },
        "id": "M7Nf27Z_W6bO",
        "outputId": "c3a2d65a-8860-4eb2-cc3f-12ed5cc1a048"
      },
      "execution_count": 5,
      "outputs": [
        {
          "output_type": "stream",
          "name": "stdout",
          "text": [
            "enter your first no:9953\n",
            "Area =  99062209\n"
          ]
        }
      ]
    }
  ]
}