{
  "nbformat": 4,
  "nbformat_minor": 0,
  "metadata": {
    "colab": {
      "provenance": []
    },
    "kernelspec": {
      "name": "python3",
      "display_name": "Python 3"
    },
    "language_info": {
      "name": "python"
    }
  },
  "cells": [
    {
      "cell_type": "markdown",
      "source": [
        "# **Tupple (Data Structure)**\n",
        "\n",
        "(1)Tupple is a built-in-data type in which we create immutable sequence values put in parenthesis.\n",
        "\n",
        "(2)It is immutable just like \"string\" which is also immutable.\n"
      ],
      "metadata": {
        "id": "JuaSmjhPk7Zt"
      }
    },
    {
      "cell_type": "code",
      "source": [
        "a = (33,44,55,66,77,88)\n",
        "print(a)\n",
        "print(type(a))\n",
        "print(len(a))  # Length function\n",
        "print(a[2])    # Index function\n",
        "print(a[1:5])  # Slicing function\n"
      ],
      "metadata": {
        "colab": {
          "base_uri": "https://localhost:8080/"
        },
        "id": "HZbyVSenlMj2",
        "outputId": "5d1918fe-b613-4845-e89d-ee854d635cdc"
      },
      "execution_count": 40,
      "outputs": [
        {
          "output_type": "stream",
          "name": "stdout",
          "text": [
            "(33, 44, 55, 66, 77, 88)\n",
            "<class 'tuple'>\n",
            "6\n",
            "55\n",
            "(44, 55, 66, 77)\n"
          ]
        }
      ]
    },
    {
      "cell_type": "markdown",
      "source": [
        " while putting single value in tupple must put comma at the end, otherwise python will consider it other data type.\n"
      ],
      "metadata": {
        "id": "i03LYHPwlPUu"
      }
    },
    {
      "cell_type": "code",
      "source": [
        "a1 = (\"hello\",)\n",
        "a2 = (2,)\n",
        "print(a1)\n",
        "print(a2)\n",
        "print(type(a1))\n",
        "print(type(a2))\n"
      ],
      "metadata": {
        "colab": {
          "base_uri": "https://localhost:8080/"
        },
        "id": "j7Ohle4Tlbo-",
        "outputId": "16230aae-c7f1-4c4e-9918-ffb0b20814de"
      },
      "execution_count": 41,
      "outputs": [
        {
          "output_type": "stream",
          "name": "stdout",
          "text": [
            "('hello',)\n",
            "(2,)\n",
            "<class 'tuple'>\n",
            "<class 'tuple'>\n"
          ]
        }
      ]
    },
    {
      "cell_type": "markdown",
      "source": [
        "#Tupple Methods\n",
        "#.index Method :\n"
      ],
      "metadata": {
        "id": "cyJs1J58le2d"
      }
    },
    {
      "cell_type": "code",
      "source": [
        "b = ( 333,222,111,444,555)\n",
        "b.index(111)\n",
        "print(b.index(111))\n"
      ],
      "metadata": {
        "colab": {
          "base_uri": "https://localhost:8080/"
        },
        "id": "q8epledLliFP",
        "outputId": "be14d873-fc69-4913-8bb1-bcfa15398f31"
      },
      "execution_count": 42,
      "outputs": [
        {
          "output_type": "stream",
          "name": "stdout",
          "text": [
            "2\n"
          ]
        }
      ]
    },
    {
      "cell_type": "markdown",
      "source": [
        "#.count Method :"
      ],
      "metadata": {
        "id": "u03HS3Sell4o"
      }
    },
    {
      "cell_type": "code",
      "source": [
        "c = ( 333,111,222,111,444,555,111)\n",
        "c.count(111)\n",
        "print(c.count(111))\n"
      ],
      "metadata": {
        "colab": {
          "base_uri": "https://localhost:8080/"
        },
        "id": "7EpRv6xJloV0",
        "outputId": "fdc998e7-271e-4a9e-d160-3c29aed278d7"
      },
      "execution_count": 43,
      "outputs": [
        {
          "output_type": "stream",
          "name": "stdout",
          "text": [
            "3\n"
          ]
        }
      ]
    },
    {
      "cell_type": "code",
      "source": [
        "a = input(\"Enter your first favourite cars name:\")\n",
        "b = input(\"Enter your second favourite cars name:\")\n",
        "c = input(\"Enter your third favourite cars name:\")\n",
        "cars = []\n",
        "cars.append(a)\n",
        "cars.append(b)\n",
        "cars.append(c)\n",
        "print(\"your favourite cars name:\",cars)"
      ],
      "metadata": {
        "colab": {
          "base_uri": "https://localhost:8080/"
        },
        "id": "Ixyj0YmClsTU",
        "outputId": "18775bb6-6a8b-4773-e991-9139c52dcdee"
      },
      "execution_count": 46,
      "outputs": [
        {
          "output_type": "stream",
          "name": "stdout",
          "text": [
            "Enter your first favourite cars name:bugatti chiron\n",
            "Enter your second favourite cars name:rolls royce\n",
            "Enter your third favourite cars name:lamborghini avent ador\n",
            "your favourite cars name: ['bugatti chiron', 'rolls royce', 'lamborghini avent ador']\n"
          ]
        }
      ]
    },
    {
      "cell_type": "markdown",
      "source": [
        "#  similarly other way to write code:"
      ],
      "metadata": {
        "id": "YFf1U8WMo-jH"
      }
    },
    {
      "cell_type": "code",
      "source": [
        "super_hit_movies = []\n",
        "super_hit_movies.append(input(\"enter your first movie:\"))\n",
        "super_hit_movies.append(input(\"enter your second movie:\"))\n",
        "super_hit_movies.append(input(\"enter your third movie:\"))\n",
        "print(\"your best movies name:\",super_hit_movies)\n"
      ],
      "metadata": {
        "colab": {
          "base_uri": "https://localhost:8080/"
        },
        "id": "7AkisITupDTy",
        "outputId": "b7638450-7e1e-4a47-99b5-3dd0c670b571"
      },
      "execution_count": 47,
      "outputs": [
        {
          "output_type": "stream",
          "name": "stdout",
          "text": [
            "enter your first movie:the lion king\n",
            "enter your second movie:titanig\n",
            "enter your third movie:avatar\n",
            "your best movies name: ['the lion king', 'titanig', 'avatar']\n"
          ]
        }
      ]
    }
  ]
}