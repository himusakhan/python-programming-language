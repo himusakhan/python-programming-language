{
  "nbformat": 4,
  "nbformat_minor": 0,
  "metadata": {
    "colab": {
      "provenance": []
    },
    "kernelspec": {
      "name": "python3",
      "display_name": "Python 3"
    },
    "language_info": {
      "name": "python"
    }
  },
  "cells": [
    {
      "cell_type": "markdown",
      "source": [
        "#**Conditional Statements**\n",
        "#if (condition):\n"
      ],
      "metadata": {
        "id": "q7Xj9jn1dCDy"
      }
    },
    {
      "cell_type": "code",
      "source": [
        "marks = 70\n",
        "if( marks >= 70):\n",
        "    print(\"congrulation on your excellent marks!\")\n"
      ],
      "metadata": {
        "colab": {
          "base_uri": "https://localhost:8080/"
        },
        "id": "qf8f4rkQdNRN",
        "outputId": "d85f108b-f184-4959-c92f-1ab4606672cf"
      },
      "execution_count": 8,
      "outputs": [
        {
          "output_type": "stream",
          "name": "stdout",
          "text": [
            "congrulation on your excellent marks!\n"
          ]
        }
      ]
    },
    {
      "cell_type": "markdown",
      "source": [
        "#elif condition:"
      ],
      "metadata": {
        "id": "rMUzejPkdoVP"
      }
    },
    {
      "cell_type": "code",
      "source": [
        "a = 60\n",
        "if(a>60):\n",
        "    print(\"Done\")\n",
        "elif (a<=60):  # elif function wil be print when the first one is wrong & it must be writen after \"if function\".\n",
        "    print(\"NOt Sure\")\n",
        "else:\n",
        "    print(\"It's ok\")\n"
      ],
      "metadata": {
        "colab": {
          "base_uri": "https://localhost:8080/"
        },
        "id": "h8utlLfAdqX7",
        "outputId": "b4e8eb0f-18d5-4870-86b0-6ec29d228b53"
      },
      "execution_count": 9,
      "outputs": [
        {
          "output_type": "stream",
          "name": "stdout",
          "text": [
            "NOt Sure\n"
          ]
        }
      ]
    },
    {
      "cell_type": "markdown",
      "source": [
        "#Similarly,\n"
      ],
      "metadata": {
        "id": "CVTXpIEVdt-z"
      }
    },
    {
      "cell_type": "code",
      "source": [
        "a = 100\n",
        "if(a>100):\n",
        "    print(\"yes\")\n",
        "elif (a==103):\n",
        "    print(\"no\")\n",
        "else:\n",
        "    print(\"don't worry!\")\n"
      ],
      "metadata": {
        "colab": {
          "base_uri": "https://localhost:8080/"
        },
        "id": "KbYC7sT6dxFv",
        "outputId": "7add3f94-097a-4960-9e87-2bf1e78d74d8"
      },
      "execution_count": 10,
      "outputs": [
        {
          "output_type": "stream",
          "name": "stdout",
          "text": [
            "don't worry!\n"
          ]
        }
      ]
    },
    {
      "cell_type": "markdown",
      "source": [
        "Grade students based on their marks\n",
        "\n",
        "Simple logic building example:\n"
      ],
      "metadata": {
        "id": "hQ2y94SGd0O8"
      }
    },
    {
      "cell_type": "code",
      "source": [
        "marks = int(input(\"Enter your marks :\"))\n",
        "\n",
        "if(marks >=90):\n",
        "    print(\"A\")\n",
        "elif(marks>=80 and marks<90):\n",
        "    print(\"B\")\n",
        "elif(marks>=70 and marks<80):\n",
        "    print(\"C\")\n",
        "else:\n",
        "    print(\"Yor are Independent!\")\n"
      ],
      "metadata": {
        "colab": {
          "base_uri": "https://localhost:8080/"
        },
        "id": "tjRD5Ej4d7-s",
        "outputId": "7ac115ea-8848-47ec-e1c7-639984f4af88"
      },
      "execution_count": 11,
      "outputs": [
        {
          "output_type": "stream",
          "name": "stdout",
          "text": [
            "Enter your marks :99\n",
            "A\n"
          ]
        }
      ]
    },
    {
      "cell_type": "markdown",
      "source": [
        "Another examples\n",
        "\n",
        "Let's suppose we have a variable s = vi t + 0.5 at2\n"
      ],
      "metadata": {
        "id": "MsFpfj8LeKEz"
      }
    },
    {
      "cell_type": "code",
      "source": [
        "vi =4\n",
        "t = 2\n",
        "a = 4\n",
        "s =vi*t+0.5*a*t**t\n",
        "print (\"distance covered\",s)\n"
      ],
      "metadata": {
        "colab": {
          "base_uri": "https://localhost:8080/"
        },
        "id": "Wl1FkeHWePGA",
        "outputId": "58a27d0d-35eb-4e78-8d43-e5ab685c8cd7"
      },
      "execution_count": 12,
      "outputs": [
        {
          "output_type": "stream",
          "name": "stdout",
          "text": [
            "distance covered 16.0\n"
          ]
        }
      ]
    }
  ]
}