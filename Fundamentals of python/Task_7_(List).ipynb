{
  "nbformat": 4,
  "nbformat_minor": 0,
  "metadata": {
    "colab": {
      "provenance": []
    },
    "kernelspec": {
      "name": "python3",
      "display_name": "Python 3"
    },
    "language_info": {
      "name": "python"
    }
  },
  "cells": [
    {
      "cell_type": "markdown",
      "source": [
        "# **List (Data Structure)**\n",
        "\n",
        "(1)It is a built-in-data type in which we store set of values. It is mutable and orderless.\n",
        "\n",
        "(2)It can be stored of various data type i-e; string,integer,float,etc.\n"
      ],
      "metadata": {
        "id": "BmqbCyapi3qy"
      }
    },
    {
      "cell_type": "code",
      "source": [
        "a = [11,22,33,44,55,66,77]\n",
        "print(a)\n",
        "print(type(a))\n",
        "print(len(a)) # length of list\n",
        "print(a[0])  # index in list\n"
      ],
      "metadata": {
        "colab": {
          "base_uri": "https://localhost:8080/"
        },
        "id": "pU4YwdbgjIM_",
        "outputId": "a631b046-44f2-41b8-c401-33e68b08a022"
      },
      "execution_count": 27,
      "outputs": [
        {
          "output_type": "stream",
          "name": "stdout",
          "text": [
            "[11, 22, 33, 44, 55, 66, 77]\n",
            "<class 'list'>\n",
            "7\n",
            "11\n"
          ]
        }
      ]
    },
    {
      "cell_type": "markdown",
      "source": [
        "#List is mutable data type:\n",
        "\n",
        "It means we can change the element in list at specicic index.\n"
      ],
      "metadata": {
        "id": "-KhFkO98jL4g"
      }
    },
    {
      "cell_type": "code",
      "source": [
        "list = [\"Ali\",88,\"Peshawar\"]\n",
        "list[1]=\"Usman\"\n",
        "print(list) # change data in list at specific index, which is mutable.\n"
      ],
      "metadata": {
        "colab": {
          "base_uri": "https://localhost:8080/"
        },
        "id": "QtUJ-jVgjS4Z",
        "outputId": "2d0b16da-8046-45ab-c62c-39b3d1466e6e"
      },
      "execution_count": 28,
      "outputs": [
        {
          "output_type": "stream",
          "name": "stdout",
          "text": [
            "['Ali', 'Usman', 'Peshawar']\n"
          ]
        }
      ]
    },
    {
      "cell_type": "markdown",
      "source": [
        "#Negative Slicing\n"
      ],
      "metadata": {
        "id": "ZeWzVt4Xjir1"
      }
    },
    {
      "cell_type": "code",
      "source": [
        "b = [222,333,444,555,666,777]\n",
        "print(b[-4:-1])\n",
        "print(b[-6:-1])\n"
      ],
      "metadata": {
        "colab": {
          "base_uri": "https://localhost:8080/"
        },
        "id": "VcHvHl_ojmLX",
        "outputId": "181e02e2-8bf9-4993-b45c-520a1c3f0874"
      },
      "execution_count": 29,
      "outputs": [
        {
          "output_type": "stream",
          "name": "stdout",
          "text": [
            "[444, 555, 666]\n",
            "[222, 333, 444, 555, 666]\n"
          ]
        }
      ]
    },
    {
      "cell_type": "markdown",
      "source": [
        "#.append() method :\n",
        "\n",
        "Add elements at the end of list.\n"
      ],
      "metadata": {
        "id": "VSwF_7f9jpNZ"
      }
    },
    {
      "cell_type": "code",
      "source": [
        "c = [\"Ali\",\"Usman\",\"Huzaifa\",\"Mohsin\",\"Mubarak\"]\n",
        "c.append(\"Musa khan\")\n",
        "print(c)"
      ],
      "metadata": {
        "colab": {
          "base_uri": "https://localhost:8080/"
        },
        "id": "ynydwhP_jvc1",
        "outputId": "f65c7d70-530e-4e33-898b-02978f85bf18"
      },
      "execution_count": 30,
      "outputs": [
        {
          "output_type": "stream",
          "name": "stdout",
          "text": [
            "['Ali', 'Usman', 'Huzaifa', 'Mohsin', 'Mubarak', 'Musa khan']\n"
          ]
        }
      ]
    },
    {
      "cell_type": "markdown",
      "source": [
        "# Similarly"
      ],
      "metadata": {
        "id": "nrTRnjxcjy2G"
      }
    },
    {
      "cell_type": "code",
      "source": [
        "c1 = [55,66,33,22,77,11]\n",
        "c1.append(99)\n",
        "print(c1)"
      ],
      "metadata": {
        "colab": {
          "base_uri": "https://localhost:8080/"
        },
        "id": "kZHHTts_j2k7",
        "outputId": "6aa2d7ad-a4e4-41e0-db5c-7af710a4b164"
      },
      "execution_count": 31,
      "outputs": [
        {
          "output_type": "stream",
          "name": "stdout",
          "text": [
            "[55, 66, 33, 22, 77, 11, 99]\n"
          ]
        }
      ]
    },
    {
      "cell_type": "markdown",
      "source": [
        "#.sort() method :\n",
        "\n",
        "Arrange elements in ascending order in a list.\n"
      ],
      "metadata": {
        "id": "Mn8uuFSJj41k"
      }
    },
    {
      "cell_type": "code",
      "source": [
        "d = [\"Ali\",\"Usman\",\"Huzaifa\",\"Mohsin\",\"Mubarak\"]\n",
        "d.sort()\n",
        "print(d)\n"
      ],
      "metadata": {
        "colab": {
          "base_uri": "https://localhost:8080/"
        },
        "id": "abh5kOF-j-WV",
        "outputId": "f77f7d53-575f-4933-d917-4c1b1a29c61d"
      },
      "execution_count": 32,
      "outputs": [
        {
          "output_type": "stream",
          "name": "stdout",
          "text": [
            "['Ali', 'Huzaifa', 'Mohsin', 'Mubarak', 'Usman']\n"
          ]
        }
      ]
    },
    {
      "cell_type": "markdown",
      "source": [
        "# Similarly"
      ],
      "metadata": {
        "id": "3fvZOYAvkA1r"
      }
    },
    {
      "cell_type": "code",
      "source": [
        "d1 = [55,66,33,22,77,11]\n",
        "d1.sort()\n",
        "print(d1)\n"
      ],
      "metadata": {
        "colab": {
          "base_uri": "https://localhost:8080/"
        },
        "id": "O1rvScyikENp",
        "outputId": "7dfdc821-5f86-43ca-f371-cf16f764540d"
      },
      "execution_count": 33,
      "outputs": [
        {
          "output_type": "stream",
          "name": "stdout",
          "text": [
            "[11, 22, 33, 55, 66, 77]\n"
          ]
        }
      ]
    },
    {
      "cell_type": "markdown",
      "source": [
        "#Reverse sort Method :\n",
        "\n",
        "Arrange the elements in descending order in a list.\n",
        "\n"
      ],
      "metadata": {
        "id": "IyTUL0V8kG3_"
      }
    },
    {
      "cell_type": "code",
      "source": [
        "d2 = [55,66,33,22,77,11]\n",
        "d2.sort(reverse=True)\n",
        "print(d2)"
      ],
      "metadata": {
        "colab": {
          "base_uri": "https://localhost:8080/"
        },
        "id": "xrUv7diekMtx",
        "outputId": "b26a6c1b-976d-4d08-ae23-fcd1aa099c50"
      },
      "execution_count": 34,
      "outputs": [
        {
          "output_type": "stream",
          "name": "stdout",
          "text": [
            "[77, 66, 55, 33, 22, 11]\n"
          ]
        }
      ]
    },
    {
      "cell_type": "markdown",
      "source": [
        "#.insert() Method :\n",
        "\n",
        "This method is closely related to append method but here we add element at particular index while in append we just add the element at the end of list.\n",
        "\n"
      ],
      "metadata": {
        "id": "MDgqHqNskQxC"
      }
    },
    {
      "cell_type": "code",
      "source": [
        "e = [\"Apple\",\"Banana\",\"Vegetable\",\"Potato\"]\n",
        "e.insert(2,\"Peach\")\n",
        "print(e)\n",
        "e1 = [11,22,33,44]\n",
        "e1.insert(1,999)\n",
        "print(e1)"
      ],
      "metadata": {
        "colab": {
          "base_uri": "https://localhost:8080/"
        },
        "id": "Heahf5wSkVNl",
        "outputId": "bd5ae071-aecc-49ec-fcba-8ee4bbd241a3"
      },
      "execution_count": 35,
      "outputs": [
        {
          "output_type": "stream",
          "name": "stdout",
          "text": [
            "['Apple', 'Banana', 'Peach', 'Vegetable', 'Potato']\n",
            "[11, 999, 22, 33, 44]\n"
          ]
        }
      ]
    },
    {
      "cell_type": "markdown",
      "source": [
        "#.remove() Method :\n",
        "\n",
        "This method is used for removing any element from the list without mentioning particular index.\n"
      ],
      "metadata": {
        "id": "_sfTJ3vTkXl2"
      }
    },
    {
      "cell_type": "code",
      "source": [
        "f = [\"Apple\",\"Banana\",\"Vegetable\",\"Potato\"]\n",
        "f.remove(\"Vegetable\")\n",
        "print(f)\n"
      ],
      "metadata": {
        "colab": {
          "base_uri": "https://localhost:8080/"
        },
        "id": "_0xHwZVokdpx",
        "outputId": "05f5010c-630d-43dd-eb6d-5c8217866a42"
      },
      "execution_count": 36,
      "outputs": [
        {
          "output_type": "stream",
          "name": "stdout",
          "text": [
            "['Apple', 'Banana', 'Potato']\n"
          ]
        }
      ]
    },
    {
      "cell_type": "markdown",
      "source": [
        "# Similarly\n"
      ],
      "metadata": {
        "id": "PGlYcKC7kg5v"
      }
    },
    {
      "cell_type": "code",
      "source": [
        "f1 = [111,222,333,444,555,666]\n",
        "f1.remove(333)\n",
        "print(f1)\n"
      ],
      "metadata": {
        "colab": {
          "base_uri": "https://localhost:8080/"
        },
        "id": "6L7hSOtfki__",
        "outputId": "54df00d0-2bc1-429c-8fbb-9c620441a1c7"
      },
      "execution_count": 37,
      "outputs": [
        {
          "output_type": "stream",
          "name": "stdout",
          "text": [
            "[111, 222, 444, 555, 666]\n"
          ]
        }
      ]
    },
    {
      "cell_type": "markdown",
      "source": [
        "#.pop Method :\n",
        "\n",
        "This method use for remove any element from the list at particular index.\n"
      ],
      "metadata": {
        "id": "6O5Vz1EeklQa"
      }
    },
    {
      "cell_type": "code",
      "source": [
        "g = [\"Apple\",\"Banana\",\"Vegetable\",\"Potato\"]\n",
        "g.pop(2)\n",
        "print(g)\n"
      ],
      "metadata": {
        "colab": {
          "base_uri": "https://localhost:8080/"
        },
        "id": "gjS6bxgCkpKL",
        "outputId": "eb61a0b2-59c9-417d-c79b-01bea109c895"
      },
      "execution_count": 38,
      "outputs": [
        {
          "output_type": "stream",
          "name": "stdout",
          "text": [
            "['Apple', 'Banana', 'Potato']\n"
          ]
        }
      ]
    },
    {
      "cell_type": "markdown",
      "source": [
        "# Similarly\n"
      ],
      "metadata": {
        "id": "wK7BlVXGksUi"
      }
    },
    {
      "cell_type": "code",
      "source": [
        "g1 = [111,222,333,444,555,666]\n",
        "g1.pop(2)\n",
        "print(g1)\n"
      ],
      "metadata": {
        "id": "LaHt8_etkuw5",
        "outputId": "ec11cc7d-cdab-4e0d-c19c-70fa85103ce0",
        "colab": {
          "base_uri": "https://localhost:8080/"
        }
      },
      "execution_count": 39,
      "outputs": [
        {
          "output_type": "stream",
          "name": "stdout",
          "text": [
            "[111, 222, 444, 555, 666]\n"
          ]
        }
      ]
    }
  ]
}