{
  "nbformat": 4,
  "nbformat_minor": 0,
  "metadata": {
    "colab": {
      "provenance": []
    },
    "kernelspec": {
      "name": "python3",
      "display_name": "Python 3"
    },
    "language_info": {
      "name": "python"
    }
  },
  "cells": [
    {
      "cell_type": "markdown",
      "source": [
        "#**Input in python**\n",
        "\n",
        "input() statement is used to accept values (using keyboard) from user\n",
        "\n",
        "input() #result for input() is always a str\n",
        "\n",
        "int(input()) #int\n",
        "\n",
        "float (input()) #float\n"
      ],
      "metadata": {
        "id": "BhwMhhzPv1Sv"
      }
    },
    {
      "cell_type": "code",
      "source": [
        "input(\"enter your name:\")"
      ],
      "metadata": {
        "colab": {
          "base_uri": "https://localhost:8080/",
          "height": 53
        },
        "id": "UfEOImidwTos",
        "outputId": "4b40b5ab-ac9d-46ed-de6b-46c75603ac99"
      },
      "execution_count": 1,
      "outputs": [
        {
          "name": "stdout",
          "output_type": "stream",
          "text": [
            "enter your name:musa khan\n"
          ]
        },
        {
          "output_type": "execute_result",
          "data": {
            "text/plain": [
              "'musa khan'"
            ],
            "application/vnd.google.colaboratory.intrinsic+json": {
              "type": "string"
            }
          },
          "metadata": {},
          "execution_count": 1
        }
      ]
    },
    {
      "cell_type": "code",
      "source": [
        "name = input(\"enter your age:\")\n",
        "print(\"you entered\",name)\n"
      ],
      "metadata": {
        "colab": {
          "base_uri": "https://localhost:8080/"
        },
        "id": "MpdiThOwwiPl",
        "outputId": "02a8dfca-7797-44fd-b6d0-805517afda15"
      },
      "execution_count": 3,
      "outputs": [
        {
          "output_type": "stream",
          "name": "stdout",
          "text": [
            "enter your age:17\n",
            "you entered 17\n"
          ]
        }
      ]
    },
    {
      "cell_type": "code",
      "source": [
        "val = input(\"enter some value: \")\n",
        "print(type(val),val) # \"24\" , \"34.34\"\n"
      ],
      "metadata": {
        "colab": {
          "base_uri": "https://localhost:8080/"
        },
        "id": "clfEQszNwmVt",
        "outputId": "ac28ae85-8a7c-4a4f-917f-bfbeba865aa8"
      },
      "execution_count": 4,
      "outputs": [
        {
          "output_type": "stream",
          "name": "stdout",
          "text": [
            "enter some value: 23\n",
            "<class 'str'> 23\n"
          ]
        }
      ]
    },
    {
      "cell_type": "code",
      "source": [
        "int(\"5\")\n",
        "val = float(input(\"enter some value: \"))\n",
        "print(type(val), val)\n"
      ],
      "metadata": {
        "colab": {
          "base_uri": "https://localhost:8080/"
        },
        "id": "qHwzcQJLw6pG",
        "outputId": "b7cb1ef3-4d3e-4a4e-e0e4-28ce56ef0834"
      },
      "execution_count": 5,
      "outputs": [
        {
          "output_type": "stream",
          "name": "stdout",
          "text": [
            "enter some value: 2344.4\n",
            "<class 'float'> 2344.4\n"
          ]
        }
      ]
    },
    {
      "cell_type": "code",
      "source": [
        "name = input(\"enter name: \")\n",
        "age = input(\"enter age: \")\n",
        "marks = input(\"anter marks: \")\n",
        "\n",
        "print(\"welcom\", name)\n",
        "print(\"age =\", age)\n",
        "print(\"marks =\", marks)\n"
      ],
      "metadata": {
        "colab": {
          "base_uri": "https://localhost:8080/"
        },
        "id": "5LRLs-KixHzr",
        "outputId": "d26e792c-bd29-4190-86f4-bc361f6b7500"
      },
      "execution_count": 6,
      "outputs": [
        {
          "output_type": "stream",
          "name": "stdout",
          "text": [
            "enter name: musa khan\n",
            "enter age: 17\n",
            "anter marks: 838\n",
            "welcom musa khan\n",
            "age = 17\n",
            "marks = 838\n"
          ]
        }
      ]
    },
    {
      "cell_type": "markdown",
      "source": [
        "#Let's Practice\n",
        "(1): Write a Program to input 2 numbers & print their sum.\n"
      ],
      "metadata": {
        "id": "fT4wAjrLyMle"
      }
    },
    {
      "cell_type": "code",
      "source": [
        "first = int(input(\"enter first :\"))\n",
        "second = int(input(\"enter second :\"))\n",
        "\n",
        "print(\"sum = \", first + second)\n"
      ],
      "metadata": {
        "colab": {
          "base_uri": "https://localhost:8080/"
        },
        "id": "OKpbwaNexpxc",
        "outputId": "3574150a-7086-4249-d1c1-1455bf9bb5c9"
      },
      "execution_count": 7,
      "outputs": [
        {
          "output_type": "stream",
          "name": "stdout",
          "text": [
            "enter first :5323\n",
            "enter second :565\n",
            "sum =  5888\n"
          ]
        }
      ]
    },
    {
      "cell_type": "markdown",
      "source": [
        "(2):WAP to input side of a squsre & print its area."
      ],
      "metadata": {
        "id": "fCTr7cMcye9k"
      }
    },
    {
      "cell_type": "code",
      "source": [
        "side = float(input(\"enter square side :\"))\n",
        "\n",
        "print(\"area =\", side * side)\n"
      ],
      "metadata": {
        "colab": {
          "base_uri": "https://localhost:8080/"
        },
        "id": "KTm2nRDoy2la",
        "outputId": "d9c44063-33c1-4407-83a6-5bb685c1c21a"
      },
      "execution_count": 11,
      "outputs": [
        {
          "output_type": "stream",
          "name": "stdout",
          "text": [
            "enter square side :10\n",
            "area = 100.0\n"
          ]
        }
      ]
    },
    {
      "cell_type": "markdown",
      "source": [
        "(3):WAP to input 2 floating point numbers & print their average.\n"
      ],
      "metadata": {
        "id": "_FXKvQaQzEzS"
      }
    },
    {
      "cell_type": "code",
      "source": [
        "a = float(input(\"enter first : \"))\n",
        "b = float(input(\"enter second : \"))\n",
        "\n",
        "print(\"avg =\", (a+b)/2)\n"
      ],
      "metadata": {
        "colab": {
          "base_uri": "https://localhost:8080/"
        },
        "id": "8xh2E90IzMgk",
        "outputId": "c25f3b4e-5ef4-446e-e7d1-6236e3dc43d6"
      },
      "execution_count": 12,
      "outputs": [
        {
          "output_type": "stream",
          "name": "stdout",
          "text": [
            "enter first : 43\n",
            "enter second : 54\n",
            "avg = 48.5\n"
          ]
        }
      ]
    },
    {
      "cell_type": "markdown",
      "source": [
        "(4):WAP to input 2 int numbers, a and b.\n",
        "\n",
        "Print True if a is greater than or equale to b. If not print False.\n"
      ],
      "metadata": {
        "id": "fVJQyFrkzizQ"
      }
    },
    {
      "cell_type": "code",
      "source": [
        "a = int(input(\"enter first : \"))\n",
        "b = int(input(\"enter second : \"))\n",
        "\n",
        "print(a >= b)\n"
      ],
      "metadata": {
        "colab": {
          "base_uri": "https://localhost:8080/"
        },
        "id": "YJjyeA56zzZM",
        "outputId": "7858f9f7-e867-4c8d-dfb6-4199e057da84"
      },
      "execution_count": 13,
      "outputs": [
        {
          "output_type": "stream",
          "name": "stdout",
          "text": [
            "enter first : 32\n",
            "enter second : 43\n",
            "False\n"
          ]
        }
      ]
    },
    {
      "cell_type": "code",
      "source": [
        "a = int(input(\"enter first : \"))\n",
        "b = int(input(\"enter second : \"))\n",
        "\n",
        "print(a <= b)\n"
      ],
      "metadata": {
        "colab": {
          "base_uri": "https://localhost:8080/"
        },
        "id": "eJ8-XYNQz1Pj",
        "outputId": "ec51d222-434b-4c5e-a21c-09e8a5748e2f"
      },
      "execution_count": 14,
      "outputs": [
        {
          "output_type": "stream",
          "name": "stdout",
          "text": [
            "enter first : 41\n",
            "enter second : 52\n",
            "True\n"
          ]
        }
      ]
    }
  ]
}